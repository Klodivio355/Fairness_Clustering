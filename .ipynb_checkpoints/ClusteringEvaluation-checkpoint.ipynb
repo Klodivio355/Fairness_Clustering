{
 "cells": [
  {
   "cell_type": "markdown",
   "metadata": {},
   "source": [
    "# Clustering Evaluation Functions\n",
    "\n",
    "This section is designed for the implementation of metric functions in relation with clustering evaluation. \n",
    "\n",
    "Author : Maxime Fontana"
   ]
  },
  {
   "attachments": {
    "symmetric-56a8fa9f5f9b58b7d0f6ea14.jpg": {
     "image/jpeg": "[encoded data removed]"
    }
   },
   "cell_type": "markdown",
   "metadata": {},
   "source": [
    "### Symmetric Distance Error \n",
    "\n",
    "This function is meant to measure the error as a percentage of missclassified vertices w.r.t the ground-truth. This is used for the study on synthetic data (Stochastic Block Model) in the paper that is presented in the file \"Reproduce Figure 2\".\n",
    "\n",
    "This error could be represented by the Symmetric Difference between a group (a cluster) in a 'unfair' clustered dataset and a so called fair clustered one.\n",
    "\n",
    "This sub-set can be represented as below.\n",
    "\n",
    "<div>\n",
    "<img src=\"attachment:symmetric-56a8fa9f5f9b58b7d0f6ea14.jpg\" width=\"500\"/>\n",
    "</div>"
   ]
  },
  {
   "cell_type": "code",
   "execution_count": 13,
   "metadata": {},
   "outputs": [],
   "source": [
    "# This function measures the error as a percentage of missclassified vertices w.r.t the\n",
    "# ground-truth\n",
    "\n",
    "# !!! NEEDS OPTIMISATION FOR SCALABILITY\n",
    "\n",
    "def error_sym(labels, fair_labels):\n",
    "    \"\"\"\n",
    "    Parameters\n",
    "    ----------\n",
    "    labels : ARRAY\n",
    "        'UNFAIR LABELS'\n",
    "    fair_labels : ARRAY\n",
    "        'FAIR LABELS'.\n",
    "        \n",
    "    Returns\n",
    "    -------\n",
    "    INTEGER\n",
    "        PORTION OF MISSCLASSIFIED VERTICES W.R.T GROUND-TRUTH.\n",
    "    \"\"\"\n",
    "    pre_results = []\n",
    "    ground_truth = [] \n",
    "    results = []\n",
    "    my_range = np.arange(0,len(labels))\n",
    "    lengths = []\n",
    "    \n",
    "    # Return the indices of elements of the same group and store them\n",
    "    for h in range(max(fair_labels)+1):\n",
    "        my_set = {i for i, x in enumerate(fair_labels) if x == h}\n",
    "        pre_results.append(my_set)\n",
    "        lengths.append(len(my_set))\n",
    "    #print(\"Fair clusters\")\n",
    "    print(pre_results)\n",
    "    \n",
    "    # Generate ground-truth in the same format (indices)\n",
    "    for k in range(max(labels)+1):\n",
    "        my_set = get_ground_truth(5, 5, my_range, k).astype(int)\n",
    "        ground_truth.append(set(my_set))\n",
    "        lengths.append(len(my_set))\n",
    "    #print(\"ground truth\")\n",
    "    print(ground_truth)\n",
    "    \n",
    "    # Cross-compute the symmetric difference between the 2\n",
    "    for i in range(len(ground_truth)):\n",
    "        for y in range(len(pre_results)):\n",
    "            x = len(ground_truth[i].symmetric_difference(pre_results[y]))\n",
    "            results.append(x)\n",
    "        \n",
    "    return (min(results) * 100) / len(labels)"
   ]
  },
  {
   "cell_type": "code",
   "execution_count": null,
   "metadata": {},
   "outputs": [],
   "source": [
    "# Compute the Ratio-Cut of the output\n",
    "\n",
    "def ratio_cut(laplacian, matrix_H):\n",
    "    return(np.trace(np.transpose(matrix_H) @ laplacian @ matrix_H))"
   ]
  },
  {
   "cell_type": "code",
   "execution_count": null,
   "metadata": {},
   "outputs": [],
   "source": [
    "# Balance \n",
    "\n",
    "def custom_error(labels, fair_labels): # (hn^kn(min(set1, set2)))\n",
    "    results = []\n",
    "    \n",
    "    for h in range(max(labels)+1): # O(h)\n",
    "        scores_list = []\n",
    "        my_set = {i for i, x in enumerate(labels) if x == h} # O(n)\n",
    "        my_calc = (len(my_set) * 100) / len(labels)\n",
    "        print(\"Initial Population : \", my_calc)\n",
    "        for k in range(max(fair_labels)+1): # O(k)\n",
    "            score = 0\n",
    "            my_fair_set = {i for i, x in enumerate(fair_labels) if x == k} # O(n)\n",
    "            my_intersec = len(my_set.intersection(my_fair_set)) #O(min(my_set, my_fair_set))\n",
    "            print(\"proportion :\", my_intersec, \" on\", len(my_fair_set))\n",
    "            my_fair_calc = ((my_intersec) * 100) / len(my_fair_set)\n",
    "            print(\"Proportion in Fair Cluster :\", my_fair_calc)\n",
    "            score = abs(my_calc - my_fair_calc)\n",
    "            print(\"local score :\", score)\n",
    "            scores_list.append(score)\n",
    "        scores = sum(scores_list) / (max(fair_labels) + 1)\n",
    "        print(scores, \" !!!\")\n",
    "        results.append(scores)\n",
    "            \n",
    "    return sum(results) / len(results)"
   ]
  },
  {
   "cell_type": "code",
   "execution_count": 14,
   "metadata": {},
   "outputs": [
    {
     "name": "stdout",
     "output_type": "stream",
     "text": [
      "Algo 1 [2 1 4 1 4 1 1 1 4 2 2 3 1 2 4 2 1 2 2 2 0 1 2 3 2 1 2 4 4 0 0 2 3 4 1 2 3\n",
      " 2 4 3 1 3 4 4 3 2 0 3 1 3 3 3 3 1 2 4 1 4 1 4 1 2 0 1 0 2 4 4 1 1 1 4 1 4\n",
      " 4 2 2 4 4 3 3 2 0 1 1 4 0 1 2 2 0 0 3 2 2 2 1 3 2 3]\n",
      "Algo 2 [0 3 4 4 3 3 4 0 2 4 3 3 3 0 0 3 1 1 0 4 3 3 3 1 1 0 0 0 1 0 4 0 4 0 3 0 2\n",
      " 2 4 1 0 2 3 4 2 3 2 2 0 4 0 2 3 0 1 0 1 4 0 1 0 4 0 2 2 1 1 2 4 0 4 1 1 2\n",
      " 0 4 0 2 4 1 2 2 0 1 0 2 3 2 0 4 1 3 3 3 0 0 1 3 2 4]\n",
      "Fair clusters\n",
      "[{0, 7, 13, 14, 18, 25, 26, 27, 29, 31, 33, 35, 40, 48, 50, 53, 55, 58, 60, 62, 69, 74, 76, 82, 84, 88, 94, 95}, {96, 65, 66, 90, 39, 71, 72, 79, 16, 17, 83, 54, 23, 24, 56, 59, 28}, {64, 98, 67, 36, 37, 8, 41, 73, 44, 77, 46, 47, 80, 81, 51, 85, 87, 63}, {1, 4, 5, 10, 11, 12, 15, 20, 21, 22, 34, 42, 45, 52, 86, 91, 92, 93, 97}, {32, 89, 2, 3, 68, 99, 6, 38, 70, 9, 43, 75, 78, 49, 19, 57, 61, 30}]\n",
      "ground truth\n",
      "[{0, 1, 2, 3, 20, 21, 22, 23, 40, 41, 42, 43, 60, 61, 62, 63, 80, 81, 82, 83}, {4, 5, 6, 7, 24, 25, 26, 27, 44, 45, 46, 47, 64, 65, 66, 67, 84, 85, 86, 87}, {8, 9, 10, 11, 28, 29, 30, 31, 48, 49, 50, 51, 68, 69, 70, 71, 88, 89, 90, 91}, {12, 13, 14, 15, 32, 33, 34, 35, 52, 53, 54, 55, 72, 73, 74, 75, 92, 93, 94, 95}, {16, 17, 18, 19, 36, 37, 38, 39, 56, 57, 58, 59, 76, 77, 78, 79, 96, 97, 98, 99}]\n"
     ]
    },
    {
     "data": {
      "text/plain": [
       "23.0"
      ]
     },
     "execution_count": 14,
     "metadata": {},
     "output_type": "execute_result"
    }
   ],
   "source": [
    "# Small worked example for Ground-Truth generation\n",
    "%run 'GroundTruthGen.ipynb'\n",
    "import numpy as np\n",
    "test_labels = np.random.randint(0, 5, 100)\n",
    "test_fair_labels = np.random.randint(0, 5, 100)\n",
    "\n",
    "#print(\"Algo 1\", test_labels)\n",
    "#print(\"Algo 2\", test_fair_labels)\n",
    "\n",
    "error_sym(test_labels, test_fair_labels)"
   ]
  },
  {
   "cell_type": "code",
   "execution_count": null,
   "metadata": {},
   "outputs": [],
   "source": []
  },
  {
   "cell_type": "code",
   "execution_count": null,
   "metadata": {},
   "outputs": [],
   "source": []
  }
 ],
 "metadata": {
  "kernelspec": {
   "display_name": "Python 3",
   "language": "python",
   "name": "python3"
  },
  "language_info": {
   "codemirror_mode": {
    "name": "ipython",
    "version": 3
   },
   "file_extension": ".py",
   "mimetype": "text/x-python",
   "name": "python",
   "nbconvert_exporter": "python",
   "pygments_lexer": "ipython3",
   "version": "3.8.3"
  }
 },
 "nbformat": 4,
 "nbformat_minor": 4
}
