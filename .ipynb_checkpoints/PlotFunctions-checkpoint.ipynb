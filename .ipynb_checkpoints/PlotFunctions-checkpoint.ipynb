{
 "cells": [
  {
   "cell_type": "code",
   "execution_count": null,
   "metadata": {},
   "outputs": [],
   "source": [
    "# A few functions to help visualise our graph clusterings\n",
    "\n",
    "\n",
    "colours = ['green', 'red', 'blue', 'purple', 'yellow', 'orange', 'pink', 'chocolate', 'turquoise', 'lime']\n",
    "\n",
    "def draw(G,labels):\n",
    "    \"\"\"\n",
    "    Parameters\n",
    "    --------------\n",
    "    G : Input Graph\n",
    "    labels : Clustering output array\n",
    "    \"\"\"\n",
    "    \n",
    "    color_map = []\n",
    "    k = max(labels)\n",
    "    my_pos = nx.spring_layout(G, seed = 3)\n",
    "    \n",
    "    for NI in range(len(labels)):\n",
    "        for c in range(k+1):\n",
    "            if labels[NI] == c:\n",
    "                color_map.append(colours[c])\n",
    "                \n",
    "    nx.draw_networkx(G, my_pos, node_color=color_map, node_size = 50) \n",
    "    \n",
    "    plt.show()"
   ]
  },
  {
   "cell_type": "code",
   "execution_count": null,
   "metadata": {},
   "outputs": [],
   "source": [
    "def plot_run(labels):\n",
    "    fig = plt.figure()\n",
    "    x = np.arange(1000,11000,1000)\n",
    "    axes_1 = fig.add_axes([0.1,0.1,0.9,0.9])\n",
    "    axes_1.plot(x, labels, label=\"algo_2\", marker='o')\n",
    "    axes_1.set_title('title')\n",
    "    plt.xlabel('n')\n",
    "    plt.ylabel('Error (in %)')\n",
    "    axes_1.legend(loc=0)"
   ]
  }
 ],
 "metadata": {
  "kernelspec": {
   "display_name": "Python 3",
   "language": "python",
   "name": "python3"
  },
  "language_info": {
   "codemirror_mode": {
    "name": "ipython",
    "version": 3
   },
   "file_extension": ".py",
   "mimetype": "text/x-python",
   "name": "python",
   "nbconvert_exporter": "python",
   "pygments_lexer": "ipython3",
   "version": "3.8.3"
  }
 },
 "nbformat": 4,
 "nbformat_minor": 4
}
