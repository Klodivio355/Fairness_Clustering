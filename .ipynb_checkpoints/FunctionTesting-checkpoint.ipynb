{
 "cells": [
  {
   "cell_type": "code",
   "execution_count": null,
   "metadata": {},
   "outputs": [],
   "source": [
    "\"\"\"\n",
    "# Small worked example for Ground-Truth generation\n",
    "%run 'GroundTruthGen.ipynb'\n",
    "import numpy as np\n",
    "\n",
    "test_labels = np.random.randint(0, 5, 100)\n",
    "test_fair_labels = np.random.randint(0, 5, 100)\n",
    "\n",
    "print(\"Algo 1\", test_labels)\n",
    "print(\"Algo 2\", test_fair_labels)\n",
    "\n",
    "error_sym(test_labels, test_fair_labels)\n",
    "print(\"-------------------------------------\")\n",
    "#error_sym2(test_labels, test_fair_labels, 5, 5)\n",
    "\"\"\""
   ]
  },
  {
   "cell_type": "code",
   "execution_count": null,
   "metadata": {},
   "outputs": [],
   "source": [
    "\"\"\"\n",
    "test_fair_labels = np.random.randint(0, 5, 100)\n",
    "\n",
    "print(test_fair_labels)\n",
    "print(opt_get_ground_truth(3, 3, test_fair_labels, 3))\n",
    "print(len(opt_get_ground_truth(3, 3, test_fair_labels, 1)))\n",
    "print(get_ground_truth(5, 5, test_fair_labels, 0))\n",
    "\"\"\""
   ]
  }
 ],
 "metadata": {
  "kernelspec": {
   "display_name": "Python 3",
   "language": "python",
   "name": "python3"
  },
  "language_info": {
   "codemirror_mode": {
    "name": "ipython",
    "version": 3
   },
   "file_extension": ".py",
   "mimetype": "text/x-python",
   "name": "python",
   "nbconvert_exporter": "python",
   "pygments_lexer": "ipython3",
   "version": "3.8.3"
  }
 },
 "nbformat": 4,
 "nbformat_minor": 4
}
