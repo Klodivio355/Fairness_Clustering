{
 "cells": [
  {
   "cell_type": "code",
   "execution_count": 2,
   "metadata": {},
   "outputs": [],
   "source": [
    "\"\"\"\n",
    "@author: maximefontana\n",
    "\"\"\"\n",
    "# System\n",
    "import sys\n",
    "\n",
    "# Graph Data\n",
    "import snap\n",
    "import networkx as nx\n",
    "\n",
    "# Scientific Computing \n",
    "import numpy as np\n",
    "import scipy\n",
    "import pandas as pd\n",
    "\n",
    "# Math\n",
    "import random as ran\n",
    "from time import time\n",
    "\n",
    "# Custom imports\n",
    "%run 'Algorithms.ipynb'\n",
    "%run 'ClusteringEvaluation.ipynb'\n",
    "%run 'PlotFunctions.ipynb'\n",
    "%run 'GroundTruthGen.ipynb'\n",
    "\n",
    "# Specific models\n",
    "from sklearn.cluster import SpectralClustering, KMeans\n",
    "from sklearn import metrics\n",
    "\n",
    "# Plotting\n",
    "from matplotlib import pyplot as plt"
   ]
  },
  {
   "cell_type": "code",
   "execution_count": 2,
   "metadata": {},
   "outputs": [
    {
     "name": "stdout",
     "output_type": "stream",
     "text": [
      "Requirement already satisfied: networkx==2.5 in /Users/maximefontana/opt/anaconda3/lib/python3.8/site-packages (2.5)\n",
      "Requirement already satisfied: decorator>=4.3.0 in /Users/maximefontana/opt/anaconda3/lib/python3.8/site-packages (from networkx==2.5) (4.4.2)\n",
      "Note: you may need to restart the kernel to use updated packages.\n"
     ]
    }
   ],
   "source": [
    "#pip install networkx==2.5"
   ]
  },
  {
   "cell_type": "code",
   "execution_count": 11,
   "metadata": {},
   "outputs": [],
   "source": [
    "def generate_variant_sbm_55(size, a, b , c, d, i):\n",
    "    arr = [size // 25] * 25\n",
    "    probs = [[a,b,b,b,b ,c,d,d,d,d ,c,d,d,d,d, c,d,d,d,d ,c,d,d,d,d],\n",
    "             [b,a,b,b,b ,d,c,d,d,d ,d,c,d,d,d, d,c,d,d,d ,d,c,d,d,d],\n",
    "             [b,b,a,b,b ,d,d,c,d,d ,d,d,c,d,d, d,d,c,d,d ,d,d,c,d,d],\n",
    "             [b,b,b,a,b ,d,d,d,c,d ,d,d,d,c,d, d,d,d,c,d ,d,d,d,c,d],\n",
    "             [b,b,b,b,a ,d,d,d,d,c ,d,d,d,d,c, d,d,d,d,c ,d,d,d,d,c],\n",
    "             \n",
    "             [c,d,d,d,d ,a,b,b,b,b ,c,d,d,d,d, c,d,d,d,d ,c,d,d,d,d],\n",
    "             [d,c,d,d,d ,b,a,b,b,b ,d,c,d,d,d, d,c,d,d,d ,d,c,d,d,d],\n",
    "             [d,d,c,d,d ,b,b,a,b,b ,d,d,c,d,d, d,d,c,d,d ,d,d,c,d,d],\n",
    "             [d,d,d,c,d ,b,b,b,a,b ,d,d,d,c,d, d,d,d,c,d ,d,d,d,c,d],\n",
    "             [d,d,d,d,c ,b,b,b,b,a ,d,d,d,d,c, d,d,d,d,c ,d,d,d,d,c],\n",
    "             \n",
    "             [c,d,d,d,d ,c,d,d,d,d ,a,b,b,b,b, c,d,d,d,d ,c,d,d,d,d],\n",
    "             [d,c,d,d,d ,d,c,d,d,d ,b,a,b,b,b, d,c,d,d,d ,d,c,d,d,d],\n",
    "             [d,d,c,d,d ,d,d,c,d,d ,b,b,a,b,b, d,d,c,d,d ,d,d,c,d,d],\n",
    "             [d,d,d,c,d ,d,d,d,c,d ,b,b,b,a,b, d,d,d,c,d ,d,d,d,c,d],\n",
    "             [d,d,d,d,c ,d,d,d,d,c ,b,b,b,b,a, d,d,d,d,c ,d,d,d,d,c],\n",
    "             \n",
    "             [c,d,d,d,d ,c,d,d,d,d ,c,d,d,d,d, a,b,b,b,b ,c,d,d,d,d],\n",
    "             [d,c,d,d,d ,d,c,d,d,d ,d,c,d,d,d, b,a,b,b,b ,d,c,d,d,d],\n",
    "             [d,d,c,d,d ,d,d,c,d,d ,d,d,c,d,d, b,b,a,b,b ,d,d,c,d,d],\n",
    "             [d,d,d,c,d ,d,d,d,c,d ,d,d,d,c,d, b,b,b,a,b ,d,d,d,c,d],\n",
    "             [d,d,d,d,c ,d,d,d,d,c ,d,d,d,d,c, b,b,b,b,a ,d,d,d,d,c],\n",
    "             \n",
    "             [c,d,d,d,d ,c,d,d,d,d ,c,d,d,d,d, c,d,d,d,d ,a,b,b,b,b],\n",
    "             [d,c,d,d,d ,d,c,d,d,d ,d,c,d,d,d, d,c,d,d,d ,b,a,b,b,b],\n",
    "             [d,d,c,d,d ,d,d,c,d,d ,d,d,c,d,d, d,d,c,d,d ,b,b,a,b,b],\n",
    "             [d,d,d,c,d ,d,d,d,c,d ,d,d,d,c,d, d,d,d,c,d ,b,b,b,a,b],\n",
    "             [d,d,d,d,c ,d,d,d,d,c ,d,d,d,d,c, d,d,d,d,c ,b,b,b,b,a]]\n",
    "    \n",
    "    # Generate SBM\n",
    "    graph = nx.stochastic_block_model(arr, probs, seed=i)\n",
    "    \n",
    "    # Run Algorithms\n",
    "    t0 = time() # Start \n",
    "    labels = un_spectral(graph, 5)\n",
    "    #print(labels)\n",
    "    t1 = time() # Run Time Algo 1\n",
    "    fair_labels = un_spectral_fair(graph, 5, labels)\n",
    "    t2 = time() # Run Time Algo 2\n",
    "    \n",
    "    # Get the Error !!! this is where y\n",
    "    y = round(error_sym(labels, fair_labels), 2)\n",
    "        \n",
    "    return y, (t1-t0), (t2-t1)\n",
    "\n",
    "def get_averaged_results(num_runs, error_list, USC_list, FairUSC_list):\n",
    "    \n",
    "    reshaped_errors = error_list.reshape(num_runs,10)\n",
    "    averaged_errors = reshaped_errors.mean(axis=0)\n",
    "    \n",
    "    reshaped_USC = USC_list.reshape(num_runs, 10)\n",
    "    averaged_USC = reshaped_USC.mean(axis=0)\n",
    "    \n",
    "    reshaped_FairUSC = FairUSC_list.reshape(num_runs, 10)\n",
    "    averaged_FairUSC = reshaped_FairUSC.mean(axis=0)\n",
    "    \n",
    "    return averaged_errors, averaged_USC, averaged_FairUSC\n",
    "\n",
    "def get_averaged_tests_55(num_runs, a, b, c, d):\n",
    "    \"\"\"\n",
    "    PARAMETERS\n",
    "    -------------------------\n",
    "    INPUT \n",
    "    - num_runs : Number of runs you want to make in order to average out the results\n",
    "    \n",
    "    OUTPUT\n",
    "    - error_scores : 1D-array of size 10, representing averaged results up on \n",
    "    - USC_scores : 2D-array of size m*10, storing the running time of algo.1 \n",
    "    - FairUSC_scores : 2D-array of size m*10, storing the running time of algo.2\n",
    "    \"\"\"\n",
    "    \n",
    "    error_scores = np.array([])\n",
    "    USC_scores = np.array([])\n",
    "    FairUSC_scores = np.array([])\n",
    "    \n",
    "    for i in range(num_runs):\n",
    "        for y in range(1000, 11000, 1000):\n",
    "            error, run1, run2 = generate_variant_sbm_55(y, a, b, c, d, i)\n",
    "            \n",
    "            error_scores = np.append(error_scores, [error])\n",
    "            USC_scores = np.append(USC_scores, [run1])\n",
    "            FairUSC_scores = np.append(FairUSC_scores, [run2])\n",
    "            print(\"Run :\", i+1 , \". Score :\", error, \". For n = \", y, \". USC :\", round(run1,2) \n",
    "                  , \". FairUSC :\", round(run2,2))\n",
    "            \n",
    "    av_error, av_USC, av_FairUSC = get_averaged_results(num_runs, error_scores, \n",
    "                                   USC_scores, FairUSC_scores)\n",
    "    \n",
    "    \n",
    "    return av_error, av_USC, av_FairUSC\n"
   ]
  },
  {
   "cell_type": "code",
   "execution_count": 7,
   "metadata": {},
   "outputs": [
    {
     "name": "stdout",
     "output_type": "stream",
     "text": [
      "[19.875  19.95   19.97   19.9725 16.075  10.21    0.275   0.04    0.\n",
      "  0.    ]\n",
      "[  0.54617465   2.93992597   9.60373455  22.13490546  43.46908695\n",
      "  83.1985209  131.71047473 198.59189975 283.93881142 394.21269351]\n",
      "[  0.20511776   1.10660887   3.28844804   7.00502759  13.86039871\n",
      "  21.98830396  37.00142068  58.29770422  83.24058729 112.19232947]\n"
     ]
    }
   ],
   "source": [
    "# Test with : 0.2 0.15 0.10. 0.05\n",
    "\"\"\"\n",
    "errors, algo1runs, algo2runs = get_averaged_tests_55(4) ### !!! This will take a few hours\n",
    "\n",
    "fig = plt.figure()\n",
    "x = np.arange(1000,11000,1000)\n",
    "axes_1 = fig.add_axes([0.1,0.1,0.9,0.9])\n",
    "axes_1.plot(x, errors, label=\"algo_2\", marker='o')\n",
    "plt.xlabel('n')\n",
    "plt.ylabel('Error (in %)')\n",
    "axes_1.legend(loc=0)\n",
    "\"\"\"\n",
    "\n",
    "print(errors)\n",
    "print(algo1runs)\n",
    "print(algo2runs)"
   ]
  },
  {
   "cell_type": "code",
   "execution_count": 14,
   "metadata": {},
   "outputs": [
    {
     "name": "stderr",
     "output_type": "stream",
     "text": [
      "<ipython-input-14-afe90eecae15>:4: MatplotlibDeprecationWarning: Adding an axes using the same arguments as a previous axes currently reuses the earlier instance.  In a future version, a new instance will always be created and returned.  Meanwhile, this warning can be suppressed, and the future behavior ensured, by passing a unique label to each axes instance.\n",
      "  axes_2 = fig.add_axes([0.1,0.1,0.9,0.9])\n"
     ]
    },
    {
     "data": {
      "text/plain": [
       "<matplotlib.legend.Legend at 0x7f8f80c7c9a0>"
      ]
     },
     "execution_count": 14,
     "metadata": {},
     "output_type": "execute_result"
    },
    {
     "data": {
      "image/png": "[encoded data removed]",
      "text/plain": [
       "<Figure size 432x288 with 1 Axes>"
      ]
     },
     "metadata": {
      "needs_background": "light"
     },
     "output_type": "display_data"
    }
   ],
   "source": [
    "fig = plt.figure()\n",
    "x = np.arange(1000,11000,1000)\n",
    "axes_1 = fig.add_axes([0.1,0.1,0.9,0.9])\n",
    "axes_2 = fig.add_axes([0.1,0.1,0.9,0.9])\n",
    "axes_1.plot(x, algo1runs, label=\"USC\", marker='o')\n",
    "axes_2.plot(x, algo2runs, label=\"FairUSC\", marker='x')\n",
    "plt.xlabel('n')\n",
    "plt.ylabel('Runtime in secondes')\n",
    "axes_1.legend(loc=0)"
   ]
  },
  {
   "cell_type": "code",
   "execution_count": 5,
   "metadata": {},
   "outputs": [
    {
     "name": "stdout",
     "output_type": "stream",
     "text": [
      "Run : 1 . Score : 19.8 . For n =  1000 . USC : 0.65 . FairUSC : 0.35\n",
      "Run : 1 . Score : 2.0 . For n =  2000 . USC : 3.28 . FairUSC : 1.41\n",
      "Run : 1 . Score : 1.67 . For n =  3000 . USC : 10.88 . FairUSC : 4.34\n",
      "Run : 1 . Score : 0.0 . For n =  4000 . USC : 23.65 . FairUSC : 9.37\n",
      "Run : 1 . Score : 0.0 . For n =  5000 . USC : 46.94 . FairUSC : 15.57\n",
      "Run : 1 . Score : 0.0 . For n =  6000 . USC : 91.2 . FairUSC : 31.14\n",
      "Run : 1 . Score : 0.0 . For n =  7000 . USC : 143.51 . FairUSC : 45.53\n",
      "Run : 1 . Score : 0.0 . For n =  8000 . USC : 216.04 . FairUSC : 73.17\n",
      "Run : 1 . Score : 0.0 . For n =  9000 . USC : 306.22 . FairUSC : 99.47\n",
      "Run : 1 . Score : 0.0 . For n =  10000 . USC : 412.17 . FairUSC : 142.13\n",
      "Run : 2 . Score : 19.9 . For n =  1000 . USC : 0.6 . FairUSC : 0.29\n",
      "Run : 2 . Score : 0.5 . For n =  2000 . USC : 3.57 . FairUSC : 1.54\n",
      "Run : 2 . Score : 0.1 . For n =  3000 . USC : 11.69 . FairUSC : 4.3\n",
      "Run : 2 . Score : 0.0 . For n =  4000 . USC : 25.23 . FairUSC : 8.71\n",
      "Run : 2 . Score : 0.0 . For n =  5000 . USC : 50.5 . FairUSC : 16.46\n",
      "Run : 2 . Score : 0.0 . For n =  6000 . USC : 93.88 . FairUSC : 28.63\n",
      "Run : 2 . Score : 0.0 . For n =  7000 . USC : 138.44 . FairUSC : 46.49\n",
      "Run : 2 . Score : 0.0 . For n =  8000 . USC : 217.39 . FairUSC : 64.45\n",
      "Run : 2 . Score : 0.0 . For n =  9000 . USC : 300.9 . FairUSC : 94.78\n",
      "Run : 2 . Score : 0.0 . For n =  10000 . USC : 409.83 . FairUSC : 123.32\n",
      "Run : 3 . Score : 19.9 . For n =  1000 . USC : 0.55 . FairUSC : 0.24\n",
      "Run : 3 . Score : 19.95 . For n =  2000 . USC : 3.19 . FairUSC : 1.28\n",
      "Run : 3 . Score : 0.6 . For n =  3000 . USC : 9.67 . FairUSC : 3.97\n",
      "Run : 3 . Score : 0.0 . For n =  4000 . USC : 22.08 . FairUSC : 8.89\n",
      "Run : 3 . Score : 0.0 . For n =  5000 . USC : 43.64 . FairUSC : 15.79\n",
      "Run : 3 . Score : 0.0 . For n =  6000 . USC : 86.64 . FairUSC : 25.24\n",
      "Run : 3 . Score : 0.0 . For n =  7000 . USC : 132.54 . FairUSC : 43.45\n",
      "Run : 3 . Score : 0.0 . For n =  8000 . USC : 212.48 . FairUSC : 64.44\n",
      "Run : 3 . Score : 0.0 . For n =  9000 . USC : 296.13 . FairUSC : 91.82\n",
      "Run : 3 . Score : 0.0 . For n =  10000 . USC : 406.27 . FairUSC : 126.93\n",
      "Run : 4 . Score : 19.9 . For n =  1000 . USC : 0.57 . FairUSC : 0.27\n",
      "Run : 4 . Score : 2.55 . For n =  2000 . USC : 3.17 . FairUSC : 1.33\n",
      "Run : 4 . Score : 0.0 . For n =  3000 . USC : 11.47 . FairUSC : 3.93\n",
      "Run : 4 . Score : 0.0 . For n =  4000 . USC : 22.93 . FairUSC : 8.3\n",
      "Run : 4 . Score : 0.0 . For n =  5000 . USC : 45.46 . FairUSC : 15.35\n",
      "Run : 4 . Score : 0.0 . For n =  6000 . USC : 87.49 . FairUSC : 25.85\n",
      "Run : 4 . Score : 0.0 . For n =  7000 . USC : 143.24 . FairUSC : 42.41\n",
      "Run : 4 . Score : 0.0 . For n =  8000 . USC : 213.64 . FairUSC : 68.23\n",
      "Run : 4 . Score : 0.0 . For n =  9000 . USC : 287.99 . FairUSC : 87.12\n",
      "Run : 4 . Score : 0.0 . For n =  10000 . USC : 404.38 . FairUSC : 126.06\n"
     ]
    },
    {
     "data": {
      "text/plain": [
       "<matplotlib.legend.Legend at 0x7f9c17ec2d30>"
      ]
     },
     "execution_count": 5,
     "metadata": {},
     "output_type": "execute_result"
    },
    {
     "data": {
      "image/png": "[encoded data removed]",
      "text/plain": [
       "<Figure size 432x288 with 1 Axes>"
      ]
     },
     "metadata": {
      "needs_background": "light"
     },
     "output_type": "display_data"
    }
   ],
   "source": [
    "# Test with 0.4 0.3 0.2 0.1\n",
    "errors, algo1runs, algo2runs = get_averaged_tests_55(4) ### !!! This will take a few hours\n",
    "\n",
    "fig = plt.figure()\n",
    "x = np.arange(1000,11000,1000)\n",
    "axes_1 = fig.add_axes([0.1,0.1,0.9,0.9])\n",
    "axes_1.plot(x, errors, label=\"algo_2\", marker='o')\n",
    "plt.xlabel('n')\n",
    "plt.ylabel('Error (in %)')\n",
    "axes_1.legend(loc=0)"
   ]
  },
  {
   "cell_type": "code",
   "execution_count": 6,
   "metadata": {},
   "outputs": [
    {
     "name": "stdout",
     "output_type": "stream",
     "text": [
      "[19.875   6.25    0.5925  0.      0.      0.      0.      0.      0.\n",
      "  0.    ]\n",
      "[  0.58995986   3.30364156  10.92558694  23.47071183  46.63591659\n",
      "  89.80043435 139.43157214 214.88872522 297.81086904 408.16045183]\n",
      "[  0.2893979    1.3918435    4.13657343   8.81946719  15.79343516\n",
      "  27.71423519  44.47145754  67.57386178  93.29877573 129.60837495]\n"
     ]
    }
   ],
   "source": [
    "print(errors)\n",
    "print(algo1runs)\n",
    "print(algo2runs)"
   ]
  },
  {
   "cell_type": "code",
   "execution_count": 4,
   "metadata": {},
   "outputs": [
    {
     "name": "stdout",
     "output_type": "stream",
     "text": [
      "Run : 1 . Score : 19.9 . For n =  1000 . USC : 0.64 . FairUSC : 0.2\n",
      "Run : 1 . Score : 19.95 . For n =  2000 . USC : 2.77 . FairUSC : 0.94\n",
      "Run : 1 . Score : 19.97 . For n =  3000 . USC : 9.07 . FairUSC : 2.86\n",
      "Run : 1 . Score : 19.98 . For n =  4000 . USC : 19.98 . FairUSC : 6.56\n",
      "Run : 1 . Score : 19.98 . For n =  5000 . USC : 45.1 . FairUSC : 13.32\n",
      "Run : 1 . Score : 19.98 . For n =  6000 . USC : 88.05 . FairUSC : 21.98\n",
      "Run : 1 . Score : 19.99 . For n =  7000 . USC : 135.98 . FairUSC : 38.91\n",
      "Run : 1 . Score : 19.98 . For n =  8000 . USC : 209.14 . FairUSC : 60.59\n",
      "Run : 1 . Score : 19.99 . For n =  9000 . USC : 286.61 . FairUSC : 80.5\n",
      "Run : 1 . Score : 19.99 . For n =  10000 . USC : 387.75 . FairUSC : 106.73\n",
      "Run : 2 . Score : 19.9 . For n =  1000 . USC : 0.51 . FairUSC : 0.16\n",
      "Run : 2 . Score : 19.95 . For n =  2000 . USC : 3.09 . FairUSC : 0.97\n",
      "Run : 2 . Score : 19.93 . For n =  3000 . USC : 12.5 . FairUSC : 4.13\n",
      "Run : 2 . Score : 19.98 . For n =  4000 . USC : 22.02 . FairUSC : 6.55\n",
      "Run : 2 . Score : 19.98 . For n =  5000 . USC : 42.05 . FairUSC : 12.42\n",
      "Run : 2 . Score : 19.97 . For n =  6000 . USC : 86.94 . FairUSC : 21.56\n",
      "Run : 2 . Score : 19.99 . For n =  7000 . USC : 133.48 . FairUSC : 34.56\n",
      "Run : 2 . Score : 19.99 . For n =  8000 . USC : 199.15 . FairUSC : 59.3\n",
      "Run : 2 . Score : 19.99 . For n =  9000 . USC : 285.85 . FairUSC : 82.91\n",
      "Run : 2 . Score : 19.99 . For n =  10000 . USC : 402.39 . FairUSC : 109.93\n",
      "Run : 3 . Score : 19.8 . For n =  1000 . USC : 0.51 . FairUSC : 0.17\n",
      "Run : 3 . Score : 19.95 . For n =  2000 . USC : 2.94 . FairUSC : 1.14\n",
      "Run : 3 . Score : 19.97 . For n =  3000 . USC : 9.67 . FairUSC : 2.75\n"
     ]
    },
    {
     "ename": "KeyboardInterrupt",
     "evalue": "",
     "output_type": "error",
     "traceback": [
      "\u001b[0;31m---------------------------------------------------------------------------\u001b[0m",
      "\u001b[0;31mKeyboardInterrupt\u001b[0m                         Traceback (most recent call last)",
      "\u001b[0;32m<ipython-input-4-8a41035b246d>\u001b[0m in \u001b[0;36m<module>\u001b[0;34m\u001b[0m\n\u001b[1;32m      1\u001b[0m \u001b[0;31m# Test with log\u001b[0m\u001b[0;34m\u001b[0m\u001b[0;34m\u001b[0m\u001b[0;34m\u001b[0m\u001b[0m\n\u001b[0;32m----> 2\u001b[0;31m \u001b[0merrors\u001b[0m\u001b[0;34m,\u001b[0m \u001b[0malgo1runs\u001b[0m\u001b[0;34m,\u001b[0m \u001b[0malgo2runs\u001b[0m \u001b[0;34m=\u001b[0m \u001b[0mget_averaged_tests_55\u001b[0m\u001b[0;34m(\u001b[0m\u001b[0;36m4\u001b[0m\u001b[0;34m)\u001b[0m \u001b[0;31m### !!! This will take a few hours\u001b[0m\u001b[0;34m\u001b[0m\u001b[0;34m\u001b[0m\u001b[0m\n\u001b[0m\u001b[1;32m      3\u001b[0m \u001b[0;34m\u001b[0m\u001b[0m\n\u001b[1;32m      4\u001b[0m \u001b[0mfig\u001b[0m \u001b[0;34m=\u001b[0m \u001b[0mplt\u001b[0m\u001b[0;34m.\u001b[0m\u001b[0mfigure\u001b[0m\u001b[0;34m(\u001b[0m\u001b[0;34m)\u001b[0m\u001b[0;34m\u001b[0m\u001b[0;34m\u001b[0m\u001b[0m\n\u001b[1;32m      5\u001b[0m \u001b[0mx\u001b[0m \u001b[0;34m=\u001b[0m \u001b[0mnp\u001b[0m\u001b[0;34m.\u001b[0m\u001b[0marange\u001b[0m\u001b[0;34m(\u001b[0m\u001b[0;36m1000\u001b[0m\u001b[0;34m,\u001b[0m\u001b[0;36m11000\u001b[0m\u001b[0;34m,\u001b[0m\u001b[0;36m1000\u001b[0m\u001b[0;34m)\u001b[0m\u001b[0;34m\u001b[0m\u001b[0;34m\u001b[0m\u001b[0m\n",
      "\u001b[0;32m<ipython-input-3-43ee42b483e7>\u001b[0m in \u001b[0;36mget_averaged_tests_55\u001b[0;34m(num_runs)\u001b[0m\n\u001b[1;32m     78\u001b[0m     \u001b[0;32mfor\u001b[0m \u001b[0mi\u001b[0m \u001b[0;32min\u001b[0m \u001b[0mrange\u001b[0m\u001b[0;34m(\u001b[0m\u001b[0mnum_runs\u001b[0m\u001b[0;34m)\u001b[0m\u001b[0;34m:\u001b[0m\u001b[0;34m\u001b[0m\u001b[0;34m\u001b[0m\u001b[0m\n\u001b[1;32m     79\u001b[0m         \u001b[0;32mfor\u001b[0m \u001b[0my\u001b[0m \u001b[0;32min\u001b[0m \u001b[0mrange\u001b[0m\u001b[0;34m(\u001b[0m\u001b[0;36m1000\u001b[0m\u001b[0;34m,\u001b[0m \u001b[0;36m11000\u001b[0m\u001b[0;34m,\u001b[0m \u001b[0;36m1000\u001b[0m\u001b[0;34m)\u001b[0m\u001b[0;34m:\u001b[0m\u001b[0;34m\u001b[0m\u001b[0;34m\u001b[0m\u001b[0m\n\u001b[0;32m---> 80\u001b[0;31m             error, run1, run2 = generate_variant_sbm_55(y, np.power(np.log(y)/y, 2/3), \n\u001b[0m\u001b[1;32m     81\u001b[0m                                                         \u001b[0mnp\u001b[0m\u001b[0;34m.\u001b[0m\u001b[0mpower\u001b[0m\u001b[0;34m(\u001b[0m\u001b[0mnp\u001b[0m\u001b[0;34m.\u001b[0m\u001b[0mlog\u001b[0m\u001b[0;34m(\u001b[0m\u001b[0my\u001b[0m\u001b[0;34m)\u001b[0m\u001b[0;34m/\u001b[0m\u001b[0my\u001b[0m\u001b[0;34m,\u001b[0m \u001b[0;36m2\u001b[0m\u001b[0;34m/\u001b[0m\u001b[0;36m3\u001b[0m\u001b[0;34m)\u001b[0m\u001b[0;34m,\u001b[0m\u001b[0;34m\u001b[0m\u001b[0;34m\u001b[0m\u001b[0m\n\u001b[1;32m     82\u001b[0m                                                         \u001b[0mnp\u001b[0m\u001b[0;34m.\u001b[0m\u001b[0mpower\u001b[0m\u001b[0;34m(\u001b[0m\u001b[0mnp\u001b[0m\u001b[0;34m.\u001b[0m\u001b[0mlog\u001b[0m\u001b[0;34m(\u001b[0m\u001b[0my\u001b[0m\u001b[0;34m)\u001b[0m\u001b[0;34m/\u001b[0m\u001b[0my\u001b[0m\u001b[0;34m,\u001b[0m \u001b[0;36m2\u001b[0m\u001b[0;34m/\u001b[0m\u001b[0;36m3\u001b[0m\u001b[0;34m)\u001b[0m\u001b[0;34m,\u001b[0m\u001b[0;34m\u001b[0m\u001b[0;34m\u001b[0m\u001b[0m\n",
      "\u001b[0;32m<ipython-input-3-43ee42b483e7>\u001b[0m in \u001b[0;36mgenerate_variant_sbm_55\u001b[0;34m(size, a, b, c, d, i)\u001b[0m\n\u001b[1;32m     36\u001b[0m     \u001b[0;31m# Run Algorithms\u001b[0m\u001b[0;34m\u001b[0m\u001b[0;34m\u001b[0m\u001b[0;34m\u001b[0m\u001b[0m\n\u001b[1;32m     37\u001b[0m     \u001b[0mt0\u001b[0m \u001b[0;34m=\u001b[0m \u001b[0mtime\u001b[0m\u001b[0;34m(\u001b[0m\u001b[0;34m)\u001b[0m \u001b[0;31m# Start\u001b[0m\u001b[0;34m\u001b[0m\u001b[0;34m\u001b[0m\u001b[0m\n\u001b[0;32m---> 38\u001b[0;31m     \u001b[0mlabels\u001b[0m \u001b[0;34m=\u001b[0m \u001b[0mun_spectral\u001b[0m\u001b[0;34m(\u001b[0m\u001b[0mgraph\u001b[0m\u001b[0;34m,\u001b[0m \u001b[0;36m5\u001b[0m\u001b[0;34m)\u001b[0m\u001b[0;34m\u001b[0m\u001b[0;34m\u001b[0m\u001b[0m\n\u001b[0m\u001b[1;32m     39\u001b[0m     \u001b[0mt1\u001b[0m \u001b[0;34m=\u001b[0m \u001b[0mtime\u001b[0m\u001b[0;34m(\u001b[0m\u001b[0;34m)\u001b[0m \u001b[0;31m# Run Time Algo 1\u001b[0m\u001b[0;34m\u001b[0m\u001b[0;34m\u001b[0m\u001b[0m\n\u001b[1;32m     40\u001b[0m     \u001b[0mfair_labels\u001b[0m \u001b[0;34m=\u001b[0m \u001b[0mun_spectral_fair\u001b[0m\u001b[0;34m(\u001b[0m\u001b[0mgraph\u001b[0m\u001b[0;34m,\u001b[0m \u001b[0;36m5\u001b[0m\u001b[0;34m,\u001b[0m \u001b[0mlabels\u001b[0m\u001b[0;34m)\u001b[0m\u001b[0;34m\u001b[0m\u001b[0;34m\u001b[0m\u001b[0m\n",
      "\u001b[0;32m<ipython-input-1-7e8888a4f708>\u001b[0m in \u001b[0;36mun_spectral\u001b[0;34m(G, k, metric)\u001b[0m\n\u001b[1;32m      6\u001b[0m \u001b[0;34m\u001b[0m\u001b[0m\n\u001b[1;32m      7\u001b[0m     \u001b[0;31m# We get the laplacian Matrix from the graph's adjacency matrix\u001b[0m\u001b[0;34m\u001b[0m\u001b[0;34m\u001b[0m\u001b[0;34m\u001b[0m\u001b[0m\n\u001b[0;32m----> 8\u001b[0;31m     \u001b[0mlaplacian_matrix\u001b[0m \u001b[0;34m=\u001b[0m \u001b[0mnx\u001b[0m\u001b[0;34m.\u001b[0m\u001b[0mlaplacian_matrix\u001b[0m\u001b[0;34m(\u001b[0m\u001b[0mG\u001b[0m\u001b[0;34m)\u001b[0m\u001b[0;34m\u001b[0m\u001b[0;34m\u001b[0m\u001b[0m\n\u001b[0m\u001b[1;32m      9\u001b[0m \u001b[0;34m\u001b[0m\u001b[0m\n\u001b[1;32m     10\u001b[0m     \u001b[0;31m# Compute the EigenVectors/Values\u001b[0m\u001b[0;34m\u001b[0m\u001b[0;34m\u001b[0m\u001b[0;34m\u001b[0m\u001b[0m\n",
      "\u001b[0;32m<decorator-gen-825>\u001b[0m in \u001b[0;36mlaplacian_matrix\u001b[0;34m(G, nodelist, weight)\u001b[0m\n",
      "\u001b[0;32m~/opt/anaconda3/lib/python3.8/site-packages/networkx/utils/decorators.py\u001b[0m in \u001b[0;36m_not_implemented_for\u001b[0;34m(not_implement_for_func, *args, **kwargs)\u001b[0m\n\u001b[1;32m     76\u001b[0m             \u001b[0;32mraise\u001b[0m \u001b[0mnx\u001b[0m\u001b[0;34m.\u001b[0m\u001b[0mNetworkXNotImplemented\u001b[0m\u001b[0;34m(\u001b[0m\u001b[0mmsg\u001b[0m\u001b[0;34m)\u001b[0m\u001b[0;34m\u001b[0m\u001b[0;34m\u001b[0m\u001b[0m\n\u001b[1;32m     77\u001b[0m         \u001b[0;32melse\u001b[0m\u001b[0;34m:\u001b[0m\u001b[0;34m\u001b[0m\u001b[0;34m\u001b[0m\u001b[0m\n\u001b[0;32m---> 78\u001b[0;31m             \u001b[0;32mreturn\u001b[0m \u001b[0mnot_implement_for_func\u001b[0m\u001b[0;34m(\u001b[0m\u001b[0;34m*\u001b[0m\u001b[0margs\u001b[0m\u001b[0;34m,\u001b[0m \u001b[0;34m**\u001b[0m\u001b[0mkwargs\u001b[0m\u001b[0;34m)\u001b[0m\u001b[0;34m\u001b[0m\u001b[0;34m\u001b[0m\u001b[0m\n\u001b[0m\u001b[1;32m     79\u001b[0m \u001b[0;34m\u001b[0m\u001b[0m\n\u001b[1;32m     80\u001b[0m     \u001b[0;32mreturn\u001b[0m \u001b[0m_not_implemented_for\u001b[0m\u001b[0;34m\u001b[0m\u001b[0;34m\u001b[0m\u001b[0m\n",
      "\u001b[0;32m~/opt/anaconda3/lib/python3.8/site-packages/networkx/linalg/laplacianmatrix.py\u001b[0m in \u001b[0;36mlaplacian_matrix\u001b[0;34m(G, nodelist, weight)\u001b[0m\n\u001b[1;32m     51\u001b[0m     \u001b[0;32mif\u001b[0m \u001b[0mnodelist\u001b[0m \u001b[0;32mis\u001b[0m \u001b[0;32mNone\u001b[0m\u001b[0;34m:\u001b[0m\u001b[0;34m\u001b[0m\u001b[0;34m\u001b[0m\u001b[0m\n\u001b[1;32m     52\u001b[0m         \u001b[0mnodelist\u001b[0m \u001b[0;34m=\u001b[0m \u001b[0mlist\u001b[0m\u001b[0;34m(\u001b[0m\u001b[0mG\u001b[0m\u001b[0;34m)\u001b[0m\u001b[0;34m\u001b[0m\u001b[0;34m\u001b[0m\u001b[0m\n\u001b[0;32m---> 53\u001b[0;31m     \u001b[0mA\u001b[0m \u001b[0;34m=\u001b[0m \u001b[0mnx\u001b[0m\u001b[0;34m.\u001b[0m\u001b[0mto_scipy_sparse_matrix\u001b[0m\u001b[0;34m(\u001b[0m\u001b[0mG\u001b[0m\u001b[0;34m,\u001b[0m \u001b[0mnodelist\u001b[0m\u001b[0;34m=\u001b[0m\u001b[0mnodelist\u001b[0m\u001b[0;34m,\u001b[0m \u001b[0mweight\u001b[0m\u001b[0;34m=\u001b[0m\u001b[0mweight\u001b[0m\u001b[0;34m,\u001b[0m \u001b[0mformat\u001b[0m\u001b[0;34m=\u001b[0m\u001b[0;34m\"csr\"\u001b[0m\u001b[0;34m)\u001b[0m\u001b[0;34m\u001b[0m\u001b[0;34m\u001b[0m\u001b[0m\n\u001b[0m\u001b[1;32m     54\u001b[0m     \u001b[0mn\u001b[0m\u001b[0;34m,\u001b[0m \u001b[0mm\u001b[0m \u001b[0;34m=\u001b[0m \u001b[0mA\u001b[0m\u001b[0;34m.\u001b[0m\u001b[0mshape\u001b[0m\u001b[0;34m\u001b[0m\u001b[0;34m\u001b[0m\u001b[0m\n\u001b[1;32m     55\u001b[0m     \u001b[0mdiags\u001b[0m \u001b[0;34m=\u001b[0m \u001b[0mA\u001b[0m\u001b[0;34m.\u001b[0m\u001b[0msum\u001b[0m\u001b[0;34m(\u001b[0m\u001b[0maxis\u001b[0m\u001b[0;34m=\u001b[0m\u001b[0;36m1\u001b[0m\u001b[0;34m)\u001b[0m\u001b[0;34m\u001b[0m\u001b[0;34m\u001b[0m\u001b[0m\n",
      "\u001b[0;32m~/opt/anaconda3/lib/python3.8/site-packages/networkx/convert_matrix.py\u001b[0m in \u001b[0;36mto_scipy_sparse_matrix\u001b[0;34m(G, nodelist, dtype, weight, format)\u001b[0m\n\u001b[1;32m    919\u001b[0m             \u001b[0mr\u001b[0m \u001b[0;34m+=\u001b[0m \u001b[0mdiag_index\u001b[0m\u001b[0;34m\u001b[0m\u001b[0;34m\u001b[0m\u001b[0m\n\u001b[1;32m    920\u001b[0m             \u001b[0mc\u001b[0m \u001b[0;34m+=\u001b[0m \u001b[0mdiag_index\u001b[0m\u001b[0;34m\u001b[0m\u001b[0;34m\u001b[0m\u001b[0m\n\u001b[0;32m--> 921\u001b[0;31m         \u001b[0mM\u001b[0m \u001b[0;34m=\u001b[0m \u001b[0msparse\u001b[0m\u001b[0;34m.\u001b[0m\u001b[0mcoo_matrix\u001b[0m\u001b[0;34m(\u001b[0m\u001b[0;34m(\u001b[0m\u001b[0md\u001b[0m\u001b[0;34m,\u001b[0m \u001b[0;34m(\u001b[0m\u001b[0mr\u001b[0m\u001b[0;34m,\u001b[0m \u001b[0mc\u001b[0m\u001b[0;34m)\u001b[0m\u001b[0;34m)\u001b[0m\u001b[0;34m,\u001b[0m \u001b[0mshape\u001b[0m\u001b[0;34m=\u001b[0m\u001b[0;34m(\u001b[0m\u001b[0mnlen\u001b[0m\u001b[0;34m,\u001b[0m \u001b[0mnlen\u001b[0m\u001b[0;34m)\u001b[0m\u001b[0;34m,\u001b[0m \u001b[0mdtype\u001b[0m\u001b[0;34m=\u001b[0m\u001b[0mdtype\u001b[0m\u001b[0;34m)\u001b[0m\u001b[0;34m\u001b[0m\u001b[0;34m\u001b[0m\u001b[0m\n\u001b[0m\u001b[1;32m    922\u001b[0m     \u001b[0;32mtry\u001b[0m\u001b[0;34m:\u001b[0m\u001b[0;34m\u001b[0m\u001b[0;34m\u001b[0m\u001b[0m\n\u001b[1;32m    923\u001b[0m         \u001b[0;32mreturn\u001b[0m \u001b[0mM\u001b[0m\u001b[0;34m.\u001b[0m\u001b[0masformat\u001b[0m\u001b[0;34m(\u001b[0m\u001b[0mformat\u001b[0m\u001b[0;34m)\u001b[0m\u001b[0;34m\u001b[0m\u001b[0;34m\u001b[0m\u001b[0m\n",
      "\u001b[0;32m~/opt/anaconda3/lib/python3.8/site-packages/scipy/sparse/coo.py\u001b[0m in \u001b[0;36m__init__\u001b[0;34m(self, arg1, shape, dtype, copy)\u001b[0m\n\u001b[1;32m    157\u001b[0m                 \u001b[0mself\u001b[0m\u001b[0;34m.\u001b[0m\u001b[0mrow\u001b[0m \u001b[0;34m=\u001b[0m \u001b[0mnp\u001b[0m\u001b[0;34m.\u001b[0m\u001b[0marray\u001b[0m\u001b[0;34m(\u001b[0m\u001b[0mrow\u001b[0m\u001b[0;34m,\u001b[0m \u001b[0mcopy\u001b[0m\u001b[0;34m=\u001b[0m\u001b[0mcopy\u001b[0m\u001b[0;34m,\u001b[0m \u001b[0mdtype\u001b[0m\u001b[0;34m=\u001b[0m\u001b[0midx_dtype\u001b[0m\u001b[0;34m)\u001b[0m\u001b[0;34m\u001b[0m\u001b[0;34m\u001b[0m\u001b[0m\n\u001b[1;32m    158\u001b[0m                 \u001b[0mself\u001b[0m\u001b[0;34m.\u001b[0m\u001b[0mcol\u001b[0m \u001b[0;34m=\u001b[0m \u001b[0mnp\u001b[0m\u001b[0;34m.\u001b[0m\u001b[0marray\u001b[0m\u001b[0;34m(\u001b[0m\u001b[0mcol\u001b[0m\u001b[0;34m,\u001b[0m \u001b[0mcopy\u001b[0m\u001b[0;34m=\u001b[0m\u001b[0mcopy\u001b[0m\u001b[0;34m,\u001b[0m \u001b[0mdtype\u001b[0m\u001b[0;34m=\u001b[0m\u001b[0midx_dtype\u001b[0m\u001b[0;34m)\u001b[0m\u001b[0;34m\u001b[0m\u001b[0;34m\u001b[0m\u001b[0m\n\u001b[0;32m--> 159\u001b[0;31m                 \u001b[0mself\u001b[0m\u001b[0;34m.\u001b[0m\u001b[0mdata\u001b[0m \u001b[0;34m=\u001b[0m \u001b[0mnp\u001b[0m\u001b[0;34m.\u001b[0m\u001b[0marray\u001b[0m\u001b[0;34m(\u001b[0m\u001b[0mobj\u001b[0m\u001b[0;34m,\u001b[0m \u001b[0mcopy\u001b[0m\u001b[0;34m=\u001b[0m\u001b[0mcopy\u001b[0m\u001b[0;34m)\u001b[0m\u001b[0;34m\u001b[0m\u001b[0;34m\u001b[0m\u001b[0m\n\u001b[0m\u001b[1;32m    160\u001b[0m                 \u001b[0mself\u001b[0m\u001b[0;34m.\u001b[0m\u001b[0mhas_canonical_format\u001b[0m \u001b[0;34m=\u001b[0m \u001b[0;32mFalse\u001b[0m\u001b[0;34m\u001b[0m\u001b[0;34m\u001b[0m\u001b[0m\n\u001b[1;32m    161\u001b[0m \u001b[0;34m\u001b[0m\u001b[0m\n",
      "\u001b[0;31mKeyboardInterrupt\u001b[0m: "
     ]
    }
   ],
   "source": [
    "# Test with log\n",
    "errors, algo1runs, algo2runs = get_averaged_tests_55(4) ### !!! This will take a few hours\n",
    "\n",
    "fig = plt.figure()\n",
    "x = np.arange(1000,11000,1000)\n",
    "axes_1 = fig.add_axes([0.1,0.1,0.9,0.9])\n",
    "axes_1.plot(x, errors, label=\"algo_2\", marker='o')\n",
    "plt.xlabel('n')\n",
    "plt.ylabel('Error (in %)')\n",
    "axes_1.legend(loc=0)"
   ]
  },
  {
   "cell_type": "code",
   "execution_count": 6,
   "metadata": {},
   "outputs": [
    {
     "name": "stdout",
     "output_type": "stream",
     "text": [
      "Run : 1 . Score : 32.0 . For n =  1000 . USC : 0.71 . FairUSC : 0.24\n",
      "Run : 1 . Score : 32.0 . For n =  2000 . USC : 4.05 . FairUSC : 1.73\n",
      "Run : 1 . Score : 32.0 . For n =  3000 . USC : 11.69 . FairUSC : 4.09\n",
      "Run : 1 . Score : 32.0 . For n =  4000 . USC : 24.77 . FairUSC : 8.55\n"
     ]
    },
    {
     "ename": "KeyboardInterrupt",
     "evalue": "",
     "output_type": "error",
     "traceback": [
      "\u001b[0;31m---------------------------------------------------------------------------\u001b[0m",
      "\u001b[0;31mKeyboardInterrupt\u001b[0m                         Traceback (most recent call last)",
      "\u001b[0;32m<ipython-input-6-8b4cc3cc6ca6>\u001b[0m in \u001b[0;36m<module>\u001b[0;34m\u001b[0m\n\u001b[1;32m      1\u001b[0m \u001b[0;31m# Test for algo 1 curve\u001b[0m\u001b[0;34m\u001b[0m\u001b[0;34m\u001b[0m\u001b[0;34m\u001b[0m\u001b[0m\n\u001b[0;32m----> 2\u001b[0;31m \u001b[0merrors\u001b[0m\u001b[0;34m,\u001b[0m \u001b[0malgo1runs\u001b[0m\u001b[0;34m,\u001b[0m \u001b[0malgo2runs\u001b[0m \u001b[0;34m=\u001b[0m \u001b[0mget_averaged_tests_55\u001b[0m\u001b[0;34m(\u001b[0m\u001b[0;36m4\u001b[0m\u001b[0;34m)\u001b[0m \u001b[0;31m### !!! This will take a few hours\u001b[0m\u001b[0;34m\u001b[0m\u001b[0;34m\u001b[0m\u001b[0m\n\u001b[0m\u001b[1;32m      3\u001b[0m \u001b[0;34m\u001b[0m\u001b[0m\n\u001b[1;32m      4\u001b[0m \u001b[0mfig\u001b[0m \u001b[0;34m=\u001b[0m \u001b[0mplt\u001b[0m\u001b[0;34m.\u001b[0m\u001b[0mfigure\u001b[0m\u001b[0;34m(\u001b[0m\u001b[0;34m)\u001b[0m\u001b[0;34m\u001b[0m\u001b[0;34m\u001b[0m\u001b[0m\n\u001b[1;32m      5\u001b[0m \u001b[0mx\u001b[0m \u001b[0;34m=\u001b[0m \u001b[0mnp\u001b[0m\u001b[0;34m.\u001b[0m\u001b[0marange\u001b[0m\u001b[0;34m(\u001b[0m\u001b[0;36m1000\u001b[0m\u001b[0;34m,\u001b[0m\u001b[0;36m11000\u001b[0m\u001b[0;34m,\u001b[0m\u001b[0;36m1000\u001b[0m\u001b[0;34m)\u001b[0m\u001b[0;34m\u001b[0m\u001b[0;34m\u001b[0m\u001b[0m\n",
      "\u001b[0;32m<ipython-input-5-5fd0f2f54f63>\u001b[0m in \u001b[0;36mget_averaged_tests_55\u001b[0;34m(num_runs)\u001b[0m\n\u001b[1;32m     78\u001b[0m     \u001b[0;32mfor\u001b[0m \u001b[0mi\u001b[0m \u001b[0;32min\u001b[0m \u001b[0mrange\u001b[0m\u001b[0;34m(\u001b[0m\u001b[0mnum_runs\u001b[0m\u001b[0;34m)\u001b[0m\u001b[0;34m:\u001b[0m\u001b[0;34m\u001b[0m\u001b[0;34m\u001b[0m\u001b[0m\n\u001b[1;32m     79\u001b[0m         \u001b[0;32mfor\u001b[0m \u001b[0my\u001b[0m \u001b[0;32min\u001b[0m \u001b[0mrange\u001b[0m\u001b[0;34m(\u001b[0m\u001b[0;36m1000\u001b[0m\u001b[0;34m,\u001b[0m \u001b[0;36m11000\u001b[0m\u001b[0;34m,\u001b[0m \u001b[0;36m1000\u001b[0m\u001b[0;34m)\u001b[0m\u001b[0;34m:\u001b[0m\u001b[0;34m\u001b[0m\u001b[0;34m\u001b[0m\u001b[0m\n\u001b[0;32m---> 80\u001b[0;31m             \u001b[0merror\u001b[0m\u001b[0;34m,\u001b[0m \u001b[0mrun1\u001b[0m\u001b[0;34m,\u001b[0m \u001b[0mrun2\u001b[0m \u001b[0;34m=\u001b[0m \u001b[0mgenerate_variant_sbm_55\u001b[0m\u001b[0;34m(\u001b[0m\u001b[0my\u001b[0m\u001b[0;34m,\u001b[0m \u001b[0;36m0.4\u001b[0m\u001b[0;34m,\u001b[0m \u001b[0;36m0.3\u001b[0m\u001b[0;34m,\u001b[0m \u001b[0;36m0.2\u001b[0m\u001b[0;34m,\u001b[0m \u001b[0;36m0.1\u001b[0m\u001b[0;34m,\u001b[0m \u001b[0mi\u001b[0m\u001b[0;34m)\u001b[0m\u001b[0;34m\u001b[0m\u001b[0;34m\u001b[0m\u001b[0m\n\u001b[0m\u001b[1;32m     81\u001b[0m \u001b[0;34m\u001b[0m\u001b[0m\n\u001b[1;32m     82\u001b[0m             \u001b[0merror_scores\u001b[0m \u001b[0;34m=\u001b[0m \u001b[0mnp\u001b[0m\u001b[0;34m.\u001b[0m\u001b[0mappend\u001b[0m\u001b[0;34m(\u001b[0m\u001b[0merror_scores\u001b[0m\u001b[0;34m,\u001b[0m \u001b[0;34m[\u001b[0m\u001b[0merror\u001b[0m\u001b[0;34m]\u001b[0m\u001b[0;34m)\u001b[0m\u001b[0;34m\u001b[0m\u001b[0;34m\u001b[0m\u001b[0m\n",
      "\u001b[0;32m<ipython-input-5-5fd0f2f54f63>\u001b[0m in \u001b[0;36mgenerate_variant_sbm_55\u001b[0;34m(size, a, b, c, d, i)\u001b[0m\n\u001b[1;32m     32\u001b[0m \u001b[0;34m\u001b[0m\u001b[0m\n\u001b[1;32m     33\u001b[0m     \u001b[0;31m# Generate SBM\u001b[0m\u001b[0;34m\u001b[0m\u001b[0;34m\u001b[0m\u001b[0;34m\u001b[0m\u001b[0m\n\u001b[0;32m---> 34\u001b[0;31m     \u001b[0mgraph\u001b[0m \u001b[0;34m=\u001b[0m \u001b[0mnx\u001b[0m\u001b[0;34m.\u001b[0m\u001b[0mstochastic_block_model\u001b[0m\u001b[0;34m(\u001b[0m\u001b[0marr\u001b[0m\u001b[0;34m,\u001b[0m \u001b[0mprobs\u001b[0m\u001b[0;34m,\u001b[0m \u001b[0mseed\u001b[0m\u001b[0;34m=\u001b[0m\u001b[0mi\u001b[0m\u001b[0;34m)\u001b[0m\u001b[0;34m\u001b[0m\u001b[0;34m\u001b[0m\u001b[0m\n\u001b[0m\u001b[1;32m     35\u001b[0m \u001b[0;34m\u001b[0m\u001b[0m\n\u001b[1;32m     36\u001b[0m     \u001b[0;31m# Run Algorithms\u001b[0m\u001b[0;34m\u001b[0m\u001b[0;34m\u001b[0m\u001b[0;34m\u001b[0m\u001b[0m\n",
      "\u001b[0;32m<decorator-gen-167>\u001b[0m in \u001b[0;36mstochastic_block_model\u001b[0;34m(sizes, p, nodelist, seed, directed, selfloops, sparse)\u001b[0m\n",
      "\u001b[0;32m~/opt/anaconda3/lib/python3.8/site-packages/networkx/utils/decorators.py\u001b[0m in \u001b[0;36m_random_state\u001b[0;34m(func, *args, **kwargs)\u001b[0m\n\u001b[1;32m    467\u001b[0m         \u001b[0mnew_args\u001b[0m \u001b[0;34m=\u001b[0m \u001b[0mlist\u001b[0m\u001b[0;34m(\u001b[0m\u001b[0margs\u001b[0m\u001b[0;34m)\u001b[0m\u001b[0;34m\u001b[0m\u001b[0;34m\u001b[0m\u001b[0m\n\u001b[1;32m    468\u001b[0m         \u001b[0mnew_args\u001b[0m\u001b[0;34m[\u001b[0m\u001b[0mrandom_state_index\u001b[0m\u001b[0;34m]\u001b[0m \u001b[0;34m=\u001b[0m \u001b[0mrandom_state\u001b[0m\u001b[0;34m\u001b[0m\u001b[0;34m\u001b[0m\u001b[0m\n\u001b[0;32m--> 469\u001b[0;31m         \u001b[0;32mreturn\u001b[0m \u001b[0mfunc\u001b[0m\u001b[0;34m(\u001b[0m\u001b[0;34m*\u001b[0m\u001b[0mnew_args\u001b[0m\u001b[0;34m,\u001b[0m \u001b[0;34m**\u001b[0m\u001b[0mkwargs\u001b[0m\u001b[0;34m)\u001b[0m\u001b[0;34m\u001b[0m\u001b[0;34m\u001b[0m\u001b[0m\n\u001b[0m\u001b[1;32m    470\u001b[0m \u001b[0;34m\u001b[0m\u001b[0m\n\u001b[1;32m    471\u001b[0m     \u001b[0;32mreturn\u001b[0m \u001b[0m_random_state\u001b[0m\u001b[0;34m\u001b[0m\u001b[0;34m\u001b[0m\u001b[0m\n",
      "\u001b[0;32m~/opt/anaconda3/lib/python3.8/site-packages/networkx/generators/community.py\u001b[0m in \u001b[0;36mstochastic_block_model\u001b[0;34m(sizes, p, nodelist, seed, directed, selfloops, sparse)\u001b[0m\n\u001b[1;32m    673\u001b[0m                         \u001b[0mnext\u001b[0m\u001b[0;34m(\u001b[0m\u001b[0mitertools\u001b[0m\u001b[0;34m.\u001b[0m\u001b[0mislice\u001b[0m\u001b[0;34m(\u001b[0m\u001b[0medges\u001b[0m\u001b[0;34m,\u001b[0m \u001b[0mskip\u001b[0m\u001b[0;34m,\u001b[0m \u001b[0mskip\u001b[0m\u001b[0;34m)\u001b[0m\u001b[0;34m,\u001b[0m \u001b[0;32mNone\u001b[0m\u001b[0;34m)\u001b[0m\u001b[0;34m\u001b[0m\u001b[0;34m\u001b[0m\u001b[0m\n\u001b[1;32m    674\u001b[0m                         \u001b[0me\u001b[0m \u001b[0;34m=\u001b[0m \u001b[0mnext\u001b[0m\u001b[0;34m(\u001b[0m\u001b[0medges\u001b[0m\u001b[0;34m)\u001b[0m\u001b[0;34m\u001b[0m\u001b[0;34m\u001b[0m\u001b[0m\n\u001b[0;32m--> 675\u001b[0;31m                         \u001b[0mg\u001b[0m\u001b[0;34m.\u001b[0m\u001b[0madd_edge\u001b[0m\u001b[0;34m(\u001b[0m\u001b[0;34m*\u001b[0m\u001b[0me\u001b[0m\u001b[0;34m)\u001b[0m  \u001b[0;31m# __safe\u001b[0m\u001b[0;34m\u001b[0m\u001b[0;34m\u001b[0m\u001b[0m\n\u001b[0m\u001b[1;32m    676\u001b[0m                     \u001b[0;32mexcept\u001b[0m \u001b[0mStopIteration\u001b[0m\u001b[0;34m:\u001b[0m\u001b[0;34m\u001b[0m\u001b[0;34m\u001b[0m\u001b[0m\n\u001b[1;32m    677\u001b[0m                         \u001b[0;32mbreak\u001b[0m\u001b[0;34m\u001b[0m\u001b[0;34m\u001b[0m\u001b[0m\n",
      "\u001b[0;32m~/opt/anaconda3/lib/python3.8/site-packages/networkx/classes/graph.py\u001b[0m in \u001b[0;36madd_edge\u001b[0;34m(self, u_of_edge, v_of_edge, **attr)\u001b[0m\n\u001b[1;32m    880\u001b[0m         \u001b[0mdatadict\u001b[0m\u001b[0;34m.\u001b[0m\u001b[0mupdate\u001b[0m\u001b[0;34m(\u001b[0m\u001b[0mattr\u001b[0m\u001b[0;34m)\u001b[0m\u001b[0;34m\u001b[0m\u001b[0;34m\u001b[0m\u001b[0m\n\u001b[1;32m    881\u001b[0m         \u001b[0mself\u001b[0m\u001b[0;34m.\u001b[0m\u001b[0m_adj\u001b[0m\u001b[0;34m[\u001b[0m\u001b[0mu\u001b[0m\u001b[0;34m]\u001b[0m\u001b[0;34m[\u001b[0m\u001b[0mv\u001b[0m\u001b[0;34m]\u001b[0m \u001b[0;34m=\u001b[0m \u001b[0mdatadict\u001b[0m\u001b[0;34m\u001b[0m\u001b[0;34m\u001b[0m\u001b[0m\n\u001b[0;32m--> 882\u001b[0;31m         \u001b[0mself\u001b[0m\u001b[0;34m.\u001b[0m\u001b[0m_adj\u001b[0m\u001b[0;34m[\u001b[0m\u001b[0mv\u001b[0m\u001b[0;34m]\u001b[0m\u001b[0;34m[\u001b[0m\u001b[0mu\u001b[0m\u001b[0;34m]\u001b[0m \u001b[0;34m=\u001b[0m \u001b[0mdatadict\u001b[0m\u001b[0;34m\u001b[0m\u001b[0;34m\u001b[0m\u001b[0m\n\u001b[0m\u001b[1;32m    883\u001b[0m \u001b[0;34m\u001b[0m\u001b[0m\n\u001b[1;32m    884\u001b[0m     \u001b[0;32mdef\u001b[0m \u001b[0madd_edges_from\u001b[0m\u001b[0;34m(\u001b[0m\u001b[0mself\u001b[0m\u001b[0;34m,\u001b[0m \u001b[0mebunch_to_add\u001b[0m\u001b[0;34m,\u001b[0m \u001b[0;34m**\u001b[0m\u001b[0mattr\u001b[0m\u001b[0;34m)\u001b[0m\u001b[0;34m:\u001b[0m\u001b[0;34m\u001b[0m\u001b[0;34m\u001b[0m\u001b[0m\n",
      "\u001b[0;31mKeyboardInterrupt\u001b[0m: "
     ]
    }
   ],
   "source": [
    "# Test for algo 1 curve 0.4 0.3 0.2 0.1\n",
    "errors, algo1runs, algo2runs = get_averaged_tests_55(4) ### !!! This will take a few hours\n",
    "\n",
    "fig = plt.figure()\n",
    "x = np.arange(1000,11000,1000)\n",
    "axes_1 = fig.add_axes([0.1,0.1,0.9,0.9])\n",
    "axes_1.plot(x, errors, label=\"algo_2\", marker='o')\n",
    "plt.xlabel('n')\n",
    "plt.ylabel('Error (in %)')\n",
    "axes_1.legend(loc=0)"
   ]
  },
  {
   "cell_type": "code",
   "execution_count": null,
   "metadata": {},
   "outputs": [
    {
     "name": "stdout",
     "output_type": "stream",
     "text": [
      "Run : 1 . Score : 19.9 . For n =  1000 . USC : 0.55 . FairUSC : 0.2\n",
      "Run : 1 . Score : 31.95 . For n =  2000 . USC : 2.85 . FairUSC : 1.17\n",
      "Run : 1 . Score : 32.0 . For n =  3000 . USC : 9.63 . FairUSC : 3.33\n",
      "Run : 1 . Score : 32.0 . For n =  4000 . USC : 21.89 . FairUSC : 9.84\n",
      "Run : 1 . Score : 32.0 . For n =  5000 . USC : 44.75 . FairUSC : 14.4\n",
      "Run : 1 . Score : 32.0 . For n =  6000 . USC : 86.53 . FairUSC : 23.42\n",
      "Run : 1 . Score : 32.0 . For n =  7000 . USC : 139.51 . FairUSC : 39.84\n"
     ]
    }
   ],
   "source": [
    "# Test for algo 1 curve 0.2 0.15 0.1 0.05\n",
    "\n",
    "errors, algo1runs, algo2runs = get_averaged_tests_55(4) ### !!! This will take a few hours\n",
    "\n",
    "fig = plt.figure()\n",
    "x = np.arange(1000,11000,1000)\n",
    "axes_1 = fig.add_axes([0.1,0.1,0.9,0.9])\n",
    "axes_1.plot(x, errors, label=\"algo_2\", marker='o')\n",
    "plt.xlabel('n')\n",
    "plt.ylabel('Error (in %)')\n",
    "axes_1.legend(loc=0) "
   ]
  },
  {
   "cell_type": "code",
   "execution_count": 4,
   "metadata": {},
   "outputs": [
    {
     "name": "stdout",
     "output_type": "stream",
     "text": [
      "Run : 1 . Score : 19.9 . For n =  1000 . USC : 0.68 . FairUSC : 0.3\n",
      "Run : 1 . Score : 19.95 . For n =  2000 . USC : 3.38 . FairUSC : 1.51\n",
      "Run : 1 . Score : 19.97 . For n =  3000 . USC : 10.28 . FairUSC : 4.03\n",
      "Run : 1 . Score : 19.98 . For n =  4000 . USC : 23.08 . FairUSC : 7.8\n",
      "Run : 1 . Score : 19.98 . For n =  5000 . USC : 42.5 . FairUSC : 14.41\n",
      "Run : 1 . Score : 1.5 . For n =  6000 . USC : 86.37 . FairUSC : 27.25\n",
      "Run : 1 . Score : 0.09 . For n =  7000 . USC : 138.11 . FairUSC : 40.83\n",
      "Run : 1 . Score : 0.04 . For n =  8000 . USC : 216.6 . FairUSC : 65.84\n",
      "Run : 1 . Score : 0.49 . For n =  9000 . USC : 307.94 . FairUSC : 88.35\n",
      "Run : 1 . Score : 0.0 . For n =  10000 . USC : 412.19 . FairUSC : 132.63\n",
      "Run : 2 . Score : 19.9 . For n =  1000 . USC : 0.58 . FairUSC : 0.26\n",
      "Run : 2 . Score : 19.95 . For n =  2000 . USC : 3.3 . FairUSC : 1.25\n",
      "Run : 2 . Score : 19.97 . For n =  3000 . USC : 10.3 . FairUSC : 3.86\n",
      "Run : 2 . Score : 19.98 . For n =  4000 . USC : 23.22 . FairUSC : 8.92\n",
      "Run : 2 . Score : 4.64 . For n =  5000 . USC : 48.52 . FairUSC : 16.06\n",
      "Run : 2 . Score : 1.52 . For n =  6000 . USC : 94.09 . FairUSC : 26.34\n",
      "Run : 2 . Score : 0.26 . For n =  7000 . USC : 151.03 . FairUSC : 47.09\n",
      "Run : 2 . Score : 0.01 . For n =  8000 . USC : 204.12 . FairUSC : 64.2\n",
      "Run : 2 . Score : 0.0 . For n =  9000 . USC : 304.27 . FairUSC : 86.28\n",
      "Run : 2 . Score : 0.0 . For n =  10000 . USC : 402.67 . FairUSC : 127.45\n",
      "Run : 3 . Score : 19.8 . For n =  1000 . USC : 0.7 . FairUSC : 0.3\n",
      "Run : 3 . Score : 19.95 . For n =  2000 . USC : 3.53 . FairUSC : 1.55\n",
      "Run : 3 . Score : 19.97 . For n =  3000 . USC : 11.04 . FairUSC : 4.31\n",
      "Run : 3 . Score : 7.8 . For n =  4000 . USC : 23.97 . FairUSC : 8.34\n",
      "Run : 3 . Score : 19.98 . For n =  5000 . USC : 46.53 . FairUSC : 14.94\n",
      "Run : 3 . Score : 0.87 . For n =  6000 . USC : 88.28 . FairUSC : 27.77\n",
      "Run : 3 . Score : 0.44 . For n =  7000 . USC : 140.85 . FairUSC : 41.77\n",
      "Run : 3 . Score : 0.0 . For n =  8000 . USC : 200.97 . FairUSC : 60.61\n",
      "Run : 3 . Score : 0.0 . For n =  9000 . USC : 287.59 . FairUSC : 90.26\n",
      "Run : 3 . Score : 0.1 . For n =  10000 . USC : 397.74 . FairUSC : 118.49\n",
      "Run : 4 . Score : 19.9 . For n =  1000 . USC : 0.57 . FairUSC : 0.24\n",
      "Run : 4 . Score : 19.95 . For n =  2000 . USC : 3.17 . FairUSC : 1.19\n",
      "Run : 4 . Score : 19.97 . For n =  3000 . USC : 9.57 . FairUSC : 3.59\n",
      "Run : 4 . Score : 19.98 . For n =  4000 . USC : 21.79 . FairUSC : 7.75\n",
      "Run : 4 . Score : 19.98 . For n =  5000 . USC : 43.11 . FairUSC : 14.5\n",
      "Run : 4 . Score : 0.35 . For n =  6000 . USC : 84.86 . FairUSC : 25.0\n",
      "Run : 4 . Score : 2.47 . For n =  7000 . USC : 138.08 . FairUSC : 40.0\n",
      "Run : 4 . Score : 0.15 . For n =  8000 . USC : 202.08 . FairUSC : 65.13\n",
      "Run : 4 . Score : 0.01 . For n =  9000 . USC : 298.62 . FairUSC : 92.94\n",
      "Run : 4 . Score : 0.0 . For n =  10000 . USC : 403.59 . FairUSC : 119.18\n"
     ]
    },
    {
     "data": {
      "text/plain": [
       "<matplotlib.legend.Legend at 0x7faf3273fc70>"
      ]
     },
     "execution_count": 4,
     "metadata": {},
     "output_type": "execute_result"
    },
    {
     "data": {
      "image/png": "[encoded data removed]",
      "text/plain": [
       "<Figure size 432x288 with 1 Axes>"
      ]
     },
     "metadata": {
      "needs_background": "light"
     },
     "output_type": "display_data"
    }
   ],
   "source": [
    "# Custom Testing\n",
    "\n",
    "errors, algo1runs, algo2runs = get_averaged_tests_55(4, 0.3, 0.2, 0.15, 0.1) ### !!! This will take a few hours\n",
    "\n",
    "fig = plt.figure()\n",
    "x = np.arange(1000,11000,1000)\n",
    "axes_1 = fig.add_axes([0.1,0.1,0.9,0.9])\n",
    "axes_1.plot(x, errors, label=\"algo_2\", marker='o')\n",
    "plt.xlabel('n')\n",
    "plt.ylabel('Error (in %)')\n",
    "axes_1.legend(loc=0) "
   ]
  },
  {
   "cell_type": "code",
   "execution_count": 5,
   "metadata": {},
   "outputs": [
    {
     "name": "stdout",
     "output_type": "stream",
     "text": [
      "[19.875 19.95  19.97  16.935 16.145  1.06   0.815  0.05   0.125  0.025]\n",
      "[  0.63273746   3.34324479  10.29730076  23.01660335  45.16336435\n",
      "  88.39959133 142.01616013 205.94229519 299.60491931 404.04881752]\n",
      "[  0.27412844   1.37584794   3.94883722   8.20103842  14.9782657\n",
      "  26.59094208  42.42058581  63.9438315   89.45820856 124.43580049]\n"
     ]
    }
   ],
   "source": [
    "print(errors)\n",
    "print(algo1runs)\n",
    "print(algo2runs)"
   ]
  },
  {
   "cell_type": "code",
   "execution_count": 12,
   "metadata": {},
   "outputs": [
    {
     "name": "stdout",
     "output_type": "stream",
     "text": [
      "Run : 1 . Score : 2.6 . For n =  1000 . USC : 0.51 . FairUSC : 0.21\n",
      "Run : 1 . Score : 0.0 . For n =  2000 . USC : 3.14 . FairUSC : 1.29\n",
      "Run : 1 . Score : 0.0 . For n =  3000 . USC : 9.37 . FairUSC : 3.43\n",
      "Run : 1 . Score : 0.0 . For n =  4000 . USC : 20.78 . FairUSC : 7.52\n",
      "Run : 1 . Score : 0.0 . For n =  5000 . USC : 41.6 . FairUSC : 13.37\n",
      "Run : 1 . Score : 0.0 . For n =  6000 . USC : 81.0 . FairUSC : 22.67\n",
      "Run : 1 . Score : 0.0 . For n =  7000 . USC : 132.69 . FairUSC : 39.85\n",
      "Run : 1 . Score : 0.0 . For n =  8000 . USC : 200.48 . FairUSC : 58.31\n"
     ]
    },
    {
     "ename": "KeyboardInterrupt",
     "evalue": "",
     "output_type": "error",
     "traceback": [
      "\u001b[0;31m---------------------------------------------------------------------------\u001b[0m",
      "\u001b[0;31mKeyboardInterrupt\u001b[0m                         Traceback (most recent call last)",
      "\u001b[0;32m<ipython-input-12-1ea7dd7a8bf7>\u001b[0m in \u001b[0;36m<module>\u001b[0;34m\u001b[0m\n\u001b[1;32m      1\u001b[0m \u001b[0;31m# Custom Testing 2\u001b[0m\u001b[0;34m\u001b[0m\u001b[0;34m\u001b[0m\u001b[0;34m\u001b[0m\u001b[0m\n\u001b[1;32m      2\u001b[0m \u001b[0;34m\u001b[0m\u001b[0m\n\u001b[0;32m----> 3\u001b[0;31m \u001b[0merrors\u001b[0m\u001b[0;34m,\u001b[0m \u001b[0malgo1runs\u001b[0m\u001b[0;34m,\u001b[0m \u001b[0malgo2runs\u001b[0m \u001b[0;34m=\u001b[0m \u001b[0mget_averaged_tests_55\u001b[0m\u001b[0;34m(\u001b[0m\u001b[0;36m4\u001b[0m\u001b[0;34m,\u001b[0m \u001b[0;36m0.5\u001b[0m\u001b[0;34m,\u001b[0m \u001b[0;36m0.15\u001b[0m\u001b[0;34m,\u001b[0m \u001b[0;36m0.10\u001b[0m\u001b[0;34m,\u001b[0m \u001b[0;36m0.05\u001b[0m\u001b[0;34m)\u001b[0m \u001b[0;31m### !!! This will take a few hours\u001b[0m\u001b[0;34m\u001b[0m\u001b[0;34m\u001b[0m\u001b[0m\n\u001b[0m\u001b[1;32m      4\u001b[0m \u001b[0;34m\u001b[0m\u001b[0m\n\u001b[1;32m      5\u001b[0m \u001b[0mfig\u001b[0m \u001b[0;34m=\u001b[0m \u001b[0mplt\u001b[0m\u001b[0;34m.\u001b[0m\u001b[0mfigure\u001b[0m\u001b[0;34m(\u001b[0m\u001b[0;34m)\u001b[0m\u001b[0;34m\u001b[0m\u001b[0;34m\u001b[0m\u001b[0m\n",
      "\u001b[0;32m<ipython-input-11-474b4a45039b>\u001b[0m in \u001b[0;36mget_averaged_tests_55\u001b[0;34m(num_runs, a, b, c, d)\u001b[0m\n\u001b[1;32m     79\u001b[0m     \u001b[0;32mfor\u001b[0m \u001b[0mi\u001b[0m \u001b[0;32min\u001b[0m \u001b[0mrange\u001b[0m\u001b[0;34m(\u001b[0m\u001b[0mnum_runs\u001b[0m\u001b[0;34m)\u001b[0m\u001b[0;34m:\u001b[0m\u001b[0;34m\u001b[0m\u001b[0;34m\u001b[0m\u001b[0m\n\u001b[1;32m     80\u001b[0m         \u001b[0;32mfor\u001b[0m \u001b[0my\u001b[0m \u001b[0;32min\u001b[0m \u001b[0mrange\u001b[0m\u001b[0;34m(\u001b[0m\u001b[0;36m1000\u001b[0m\u001b[0;34m,\u001b[0m \u001b[0;36m11000\u001b[0m\u001b[0;34m,\u001b[0m \u001b[0;36m1000\u001b[0m\u001b[0;34m)\u001b[0m\u001b[0;34m:\u001b[0m\u001b[0;34m\u001b[0m\u001b[0;34m\u001b[0m\u001b[0m\n\u001b[0;32m---> 81\u001b[0;31m             \u001b[0merror\u001b[0m\u001b[0;34m,\u001b[0m \u001b[0mrun1\u001b[0m\u001b[0;34m,\u001b[0m \u001b[0mrun2\u001b[0m \u001b[0;34m=\u001b[0m \u001b[0mgenerate_variant_sbm_55\u001b[0m\u001b[0;34m(\u001b[0m\u001b[0my\u001b[0m\u001b[0;34m,\u001b[0m \u001b[0ma\u001b[0m\u001b[0;34m,\u001b[0m \u001b[0mb\u001b[0m\u001b[0;34m,\u001b[0m \u001b[0mc\u001b[0m\u001b[0;34m,\u001b[0m \u001b[0md\u001b[0m\u001b[0;34m,\u001b[0m \u001b[0mi\u001b[0m\u001b[0;34m)\u001b[0m\u001b[0;34m\u001b[0m\u001b[0;34m\u001b[0m\u001b[0m\n\u001b[0m\u001b[1;32m     82\u001b[0m \u001b[0;34m\u001b[0m\u001b[0m\n\u001b[1;32m     83\u001b[0m             \u001b[0merror_scores\u001b[0m \u001b[0;34m=\u001b[0m \u001b[0mnp\u001b[0m\u001b[0;34m.\u001b[0m\u001b[0mappend\u001b[0m\u001b[0;34m(\u001b[0m\u001b[0merror_scores\u001b[0m\u001b[0;34m,\u001b[0m \u001b[0;34m[\u001b[0m\u001b[0merror\u001b[0m\u001b[0;34m]\u001b[0m\u001b[0;34m)\u001b[0m\u001b[0;34m\u001b[0m\u001b[0;34m\u001b[0m\u001b[0m\n",
      "\u001b[0;32m<ipython-input-11-474b4a45039b>\u001b[0m in \u001b[0;36mgenerate_variant_sbm_55\u001b[0;34m(size, a, b, c, d, i)\u001b[0m\n\u001b[1;32m     36\u001b[0m     \u001b[0;31m# Run Algorithms\u001b[0m\u001b[0;34m\u001b[0m\u001b[0;34m\u001b[0m\u001b[0;34m\u001b[0m\u001b[0m\n\u001b[1;32m     37\u001b[0m     \u001b[0mt0\u001b[0m \u001b[0;34m=\u001b[0m \u001b[0mtime\u001b[0m\u001b[0;34m(\u001b[0m\u001b[0;34m)\u001b[0m \u001b[0;31m# Start\u001b[0m\u001b[0;34m\u001b[0m\u001b[0;34m\u001b[0m\u001b[0m\n\u001b[0;32m---> 38\u001b[0;31m     \u001b[0mlabels\u001b[0m \u001b[0;34m=\u001b[0m \u001b[0mun_spectral\u001b[0m\u001b[0;34m(\u001b[0m\u001b[0mgraph\u001b[0m\u001b[0;34m,\u001b[0m \u001b[0;36m5\u001b[0m\u001b[0;34m)\u001b[0m\u001b[0;34m\u001b[0m\u001b[0;34m\u001b[0m\u001b[0m\n\u001b[0m\u001b[1;32m     39\u001b[0m     \u001b[0;31m#print(labels)\u001b[0m\u001b[0;34m\u001b[0m\u001b[0;34m\u001b[0m\u001b[0;34m\u001b[0m\u001b[0m\n\u001b[1;32m     40\u001b[0m     \u001b[0mt1\u001b[0m \u001b[0;34m=\u001b[0m \u001b[0mtime\u001b[0m\u001b[0;34m(\u001b[0m\u001b[0;34m)\u001b[0m \u001b[0;31m# Run Time Algo 1\u001b[0m\u001b[0;34m\u001b[0m\u001b[0;34m\u001b[0m\u001b[0m\n",
      "\u001b[0;32m<ipython-input-2-7e8888a4f708>\u001b[0m in \u001b[0;36mun_spectral\u001b[0;34m(G, k, metric)\u001b[0m\n\u001b[1;32m      9\u001b[0m \u001b[0;34m\u001b[0m\u001b[0m\n\u001b[1;32m     10\u001b[0m     \u001b[0;31m# Compute the EigenVectors/Values\u001b[0m\u001b[0;34m\u001b[0m\u001b[0;34m\u001b[0m\u001b[0;34m\u001b[0m\u001b[0m\n\u001b[0;32m---> 11\u001b[0;31m     \u001b[0me\u001b[0m\u001b[0;34m,\u001b[0m \u001b[0mv\u001b[0m \u001b[0;34m=\u001b[0m \u001b[0mnp\u001b[0m\u001b[0;34m.\u001b[0m\u001b[0mlinalg\u001b[0m\u001b[0;34m.\u001b[0m\u001b[0meig\u001b[0m\u001b[0;34m(\u001b[0m\u001b[0mlaplacian_matrix\u001b[0m\u001b[0;34m.\u001b[0m\u001b[0mtoarray\u001b[0m\u001b[0;34m(\u001b[0m\u001b[0;34m)\u001b[0m\u001b[0;34m)\u001b[0m\u001b[0;34m\u001b[0m\u001b[0;34m\u001b[0m\u001b[0m\n\u001b[0m\u001b[1;32m     12\u001b[0m \u001b[0;34m\u001b[0m\u001b[0m\n\u001b[1;32m     13\u001b[0m     \u001b[0;31m# Sort corresponding eigenvectors w.r.t respective eigenvalues\u001b[0m\u001b[0;34m\u001b[0m\u001b[0;34m\u001b[0m\u001b[0;34m\u001b[0m\u001b[0m\n",
      "\u001b[0;32m<__array_function__ internals>\u001b[0m in \u001b[0;36meig\u001b[0;34m(*args, **kwargs)\u001b[0m\n",
      "\u001b[0;32m~/opt/anaconda3/lib/python3.8/site-packages/numpy/linalg/linalg.py\u001b[0m in \u001b[0;36meig\u001b[0;34m(a)\u001b[0m\n\u001b[1;32m   1299\u001b[0m         _raise_linalgerror_eigenvalues_nonconvergence)\n\u001b[1;32m   1300\u001b[0m     \u001b[0msignature\u001b[0m \u001b[0;34m=\u001b[0m \u001b[0;34m'D->DD'\u001b[0m \u001b[0;32mif\u001b[0m \u001b[0misComplexType\u001b[0m\u001b[0;34m(\u001b[0m\u001b[0mt\u001b[0m\u001b[0;34m)\u001b[0m \u001b[0;32melse\u001b[0m \u001b[0;34m'd->DD'\u001b[0m\u001b[0;34m\u001b[0m\u001b[0;34m\u001b[0m\u001b[0m\n\u001b[0;32m-> 1301\u001b[0;31m     \u001b[0mw\u001b[0m\u001b[0;34m,\u001b[0m \u001b[0mvt\u001b[0m \u001b[0;34m=\u001b[0m \u001b[0m_umath_linalg\u001b[0m\u001b[0;34m.\u001b[0m\u001b[0meig\u001b[0m\u001b[0;34m(\u001b[0m\u001b[0ma\u001b[0m\u001b[0;34m,\u001b[0m \u001b[0msignature\u001b[0m\u001b[0;34m=\u001b[0m\u001b[0msignature\u001b[0m\u001b[0;34m,\u001b[0m \u001b[0mextobj\u001b[0m\u001b[0;34m=\u001b[0m\u001b[0mextobj\u001b[0m\u001b[0;34m)\u001b[0m\u001b[0;34m\u001b[0m\u001b[0;34m\u001b[0m\u001b[0m\n\u001b[0m\u001b[1;32m   1302\u001b[0m \u001b[0;34m\u001b[0m\u001b[0m\n\u001b[1;32m   1303\u001b[0m     \u001b[0;32mif\u001b[0m \u001b[0;32mnot\u001b[0m \u001b[0misComplexType\u001b[0m\u001b[0;34m(\u001b[0m\u001b[0mt\u001b[0m\u001b[0;34m)\u001b[0m \u001b[0;32mand\u001b[0m \u001b[0mall\u001b[0m\u001b[0;34m(\u001b[0m\u001b[0mw\u001b[0m\u001b[0;34m.\u001b[0m\u001b[0mimag\u001b[0m \u001b[0;34m==\u001b[0m \u001b[0;36m0.0\u001b[0m\u001b[0;34m)\u001b[0m\u001b[0;34m:\u001b[0m\u001b[0;34m\u001b[0m\u001b[0;34m\u001b[0m\u001b[0m\n",
      "\u001b[0;31mKeyboardInterrupt\u001b[0m: "
     ]
    }
   ],
   "source": [
    "# Custom Testing 2\n",
    "\n",
    "errors, algo1runs, algo2runs = get_averaged_tests_55(4, 0.5, 0.15, 0.10, 0.05) ### !!! This will take a few hours\n",
    "\n",
    "fig = plt.figure()\n",
    "x = np.arange(1000,11000,1000)\n",
    "axes_1 = fig.add_axes([0.1,0.1,0.9,0.9])\n",
    "axes_1.plot(x, errors, label=\"algo_2\", marker='o')\n",
    "plt.xlabel('n')\n",
    "plt.ylabel('Error (in %)')\n",
    "axes_1.legend(loc=0) "
   ]
  },
  {
   "cell_type": "code",
   "execution_count": null,
   "metadata": {},
   "outputs": [],
   "source": []
  }
 ],
 "metadata": {
  "kernelspec": {
   "display_name": "Python 3",
   "language": "python",
   "name": "python3"
  },
  "language_info": {
   "codemirror_mode": {
    "name": "ipython",
    "version": 3
   },
   "file_extension": ".py",
   "mimetype": "text/x-python",
   "name": "python",
   "nbconvert_exporter": "python",
   "pygments_lexer": "ipython3",
   "version": "3.8.3"
  }
 },
 "nbformat": 4,
 "nbformat_minor": 4
}
