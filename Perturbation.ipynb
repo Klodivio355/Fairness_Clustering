{
 "cells": [
  {
   "cell_type": "code",
   "execution_count": 1,
   "metadata": {},
   "outputs": [],
   "source": [
    "\"\"\"\n",
    "@author: maximefontana\n",
    "\"\"\"\n",
    "# System\n",
    "import sys\n",
    "\n",
    "# Graph Data\n",
    "import snap\n",
    "import networkx as nx\n",
    "\n",
    "# Scientific Computing \n",
    "import numpy as np\n",
    "import scipy\n",
    "import pandas as pd\n",
    "\n",
    "# Math\n",
    "import random as ran\n",
    "from time import time\n",
    "\n",
    "# Custom imports\n",
    "%run Algorithms.ipynb\n",
    "%run ClusteringEvaluation.ipynb\n",
    "%run PlotFunctions.ipynb\n",
    "%run GroundTruthGen.ipynb\n",
    "%run SBM.ipynb\n",
    "\n",
    "# Specific models\n",
    "from sklearn.cluster import SpectralClustering, KMeans\n",
    "from sklearn import metrics\n",
    "\n",
    "# Plotting\n",
    "#import tensorflow as tf\n",
    "from matplotlib import pyplot as plt"
   ]
  },
  {
   "cell_type": "code",
   "execution_count": 2,
   "metadata": {},
   "outputs": [],
   "source": [
    "def perturbation_remove_nodes(G, p, random=False, greatest_degrees=False):\n",
    "    size = len(G)\n",
    "    proportion = np.ceil((p*size) / 100)\n",
    "    \n",
    "    if random:\n",
    "        random_partition = ran.sample(list(G.nodes()), int(proportion))\n",
    "        G.remove_nodes_from(random_partition)\n",
    "        \n",
    "    if greatest_degrees:\n",
    "        sorted_degrees = sorted(list(G.degree()), key=lambda x: x[1], reverse=True)\n",
    "        sub_portion = sorted_degrees[:int(proportion)]\n",
    "        sub_portion_2 = [item[0] for item in sub_portion]\n",
    "        G.remove_nodes_from(sub_portion_2)\n",
    "        \n",
    "    return G"
   ]
  },
  {
   "cell_type": "code",
   "execution_count": 3,
   "metadata": {},
   "outputs": [],
   "source": [
    "def perturbation_generate_variant_sbm_35(size, a, b , c, d, perturbation_parameter):\n",
    "    cluster_size_1 = [((size // 5)*70)/100] * 5\n",
    "    cluster_size_2 = [((size // 5)*15)/100] * 5\n",
    "    cluster_size_3 = [((size // 5)*15)/100] * 5\n",
    "       \n",
    "    arr = np.concatenate((cluster_size_1, cluster_size_2, cluster_size_3))\n",
    "    reshaped = arr.reshape(3, 5)\n",
    "    float_arr = np.concatenate(np.concatenate((np.hsplit(reshaped, 5))))\n",
    "    \n",
    "    final_arr = [int(x) for x in float_arr]\n",
    "    \n",
    "    probs = [[a,b,b ,c,d,d ,c,d,d, c,d,d ,c,d,d],\n",
    "             [b,a,b ,d,c,d ,d,c,d, d,c,d ,d,c,d],\n",
    "             [b,b,a ,d,d,c ,d,d,c, d,d,c ,d,d,c],\n",
    "             \n",
    "             [c,d,d ,a,b,b ,c,d,d, c,d,d ,c,d,d],\n",
    "             [d,c,d ,b,a,b ,d,c,d, d,c,d ,d,c,d],\n",
    "             [d,d,c ,b,b,a ,d,d,c, d,d,c ,d,d,c],\n",
    "             \n",
    "             [c,d,d ,c,d,d ,a,b,b, c,d,d ,c,d,d],\n",
    "             [d,c,d ,d,c,d ,b,a,b, d,c,d ,d,c,d],\n",
    "             [d,d,c ,d,d,c ,b,b,a, d,d,c ,d,d,c],\n",
    "             \n",
    "             [c,d,d ,c,d,d ,c,d,d, a,b,b ,c,d,d],\n",
    "             [d,c,d ,d,c,d ,d,c,d, b,a,b ,d,c,d],\n",
    "             [d,d,c ,d,d,c ,d,d,c, b,b,a ,d,d,c],\n",
    "             \n",
    "             [c,d,d ,c,d,d ,c,d,d, c,d,d ,a,b,b],\n",
    "             [d,c,d ,d,c,d ,d,c,d, d,c,d ,b,a,b],\n",
    "             [d,d,c ,d,d,c ,d,d,c, d,d,c ,b,b,a]]\n",
    "\n",
    "    \n",
    "    # Generate SBM\n",
    "    graph = nx.stochastic_block_model(final_arr, probs)\n",
    "    # Apply perturbation\n",
    "    perturbated_graph = perturbation_remove_nodes(graph, perturbation_parameter, greatest_degrees=True)\n",
    "    \n",
    "    # Run Algorithms\n",
    "    t0 = time() # Start \n",
    "    labels, other_stuff = un_spectral(perturbated_graph, 5)\n",
    "    #print(labels)\n",
    "    t1 = time() # Run Time Algo 1\n",
    "    fair_labels, other_stuff = un_spectral_fair(perturbated_graph, 3, labels)\n",
    "    t2 = time() # Run Time Algo 2\n",
    "    \n",
    "    # Get the Error !!! this is where y\n",
    "    y = round(error_sym35(labels, fair_labels), 2) ### Be careful about that! You change that alot!\n",
    "    \n",
    "    return y"
   ]
  },
  {
   "cell_type": "code",
   "execution_count": 10,
   "metadata": {},
   "outputs": [
    {
     "name": "stdout",
     "output_type": "stream",
     "text": [
      "--------------------------\n",
      "there is the result of run i 14.75\n",
      "there is the result of run i 14.97\n",
      "there is the result of run i 7.72\n",
      "there is the result of run i 4.59\n",
      "there is the result of run i 5.38\n",
      "there is the result of run i 10.73\n",
      "there is the result of run i 14.96\n",
      "there is the result of run i 12.0\n",
      "there is the result of run i 12.92\n",
      "there is the result of run i 13.82\n",
      "there is the result of run i 15.3\n",
      "--------------------------\n",
      "there is the result of run i 3.62\n",
      "there is the result of run i 14.97\n",
      "there is the result of run i 14.92\n",
      "there is the result of run i 14.97\n",
      "there is the result of run i 6.78\n",
      "there is the result of run i 5.97\n",
      "there is the result of run i 13.25\n",
      "there is the result of run i 10.31\n",
      "there is the result of run i 10.33\n",
      "there is the result of run i 14.27\n",
      "there is the result of run i 15.0\n",
      "--------------------------\n",
      "there is the result of run i 3.55\n",
      "there is the result of run i 15.32\n",
      "there is the result of run i 7.78\n",
      "there is the result of run i 3.82\n",
      "there is the result of run i 4.69\n",
      "there is the result of run i 9.1\n",
      "there is the result of run i 7.71\n",
      "there is the result of run i 8.08\n",
      "there is the result of run i 13.92\n",
      "there is the result of run i 12.27\n",
      "there is the result of run i 15.1\n",
      "--------------------------\n",
      "there is the result of run i 3.55\n",
      "there is the result of run i 14.97\n",
      "there is the result of run i 9.0\n",
      "there is the result of run i 3.29\n",
      "there is the result of run i 7.34\n",
      "there is the result of run i 5.1\n",
      "there is the result of run i 6.43\n",
      "there is the result of run i 12.58\n",
      "there is the result of run i 10.21\n",
      "there is the result of run i 14.45\n",
      "there is the result of run i 15.0\n"
     ]
    }
   ],
   "source": [
    "params = np.arange(0, 55, 5)\n",
    "results = []\n",
    "for a in range(4):\n",
    "    print('--------------------------')\n",
    "    for i in params:\n",
    "        x = perturbation_generate_variant_sbm_35(4000, 0.4, 0.3 , 0.2, 0.1, i)\n",
    "        print('there is the result of run i', x)\n",
    "        results.append(x)\n",
    "    \n",
    "# Average 7.9 now its 11.6 if greatest degree, 12.42 if random"
   ]
  },
  {
   "cell_type": "code",
   "execution_count": 4,
   "metadata": {},
   "outputs": [
    {
     "data": {
      "text/plain": [
       "<matplotlib.legend.Legend at 0x7fc5d7ca6850>"
      ]
     },
     "execution_count": 4,
     "metadata": {},
     "output_type": "execute_result"
    },
    {
     "data": {
      "image/png": "[encoded data removed]",
      "text/plain": [
       "<Figure size 432x288 with 1 Axes>"
      ]
     },
     "metadata": {
      "needs_background": "light"
     },
     "output_type": "display_data"
    }
   ],
   "source": [
    "params = np.arange(0, 55, 5)\n",
    "ran_results = [9.11, 9.63, 12.47, 14.83, 14.86, 13.04, 14.95, 14.59, 14.86, 14.81, 14.75]\n",
    "deg_results = [6.37, 15.06, 9.86, 6.66, 6.05, 7.73, 10.59, 10.74, 11.85, 13.7, 15.1]\n",
    "fig = plt.figure()\n",
    "axes_1 = fig.add_axes([0.1,0.1,0.9,0.9])\n",
    "axes_1.plot(params, ran_results, label='Random')\n",
    "axes_1.plot(params, deg_results, label='Degrees')\n",
    "axes_1.set_title('n = 4000, k = 3, h = 5, a = 0.4, b = 0.3, c = 0.2, c = 0.1')\n",
    "plt.xlabel('Perturbation Parameter')\n",
    "plt.ylabel('Error (in %)')\n",
    "axes_1.legend(loc=0)"
   ]
  },
  {
   "cell_type": "code",
   "execution_count": 18,
   "metadata": {},
   "outputs": [
    {
     "name": "stdout",
     "output_type": "stream",
     "text": [
      "--------------------------\n",
      "there is the result of run i 3.1\n",
      "there is the result of run i 4.47\n",
      "there is the result of run i 4.35\n",
      "there is the result of run i 3.35\n",
      "there is the result of run i 3.83\n",
      "there is the result of run i 6.82\n",
      "there is the result of run i 9.57\n",
      "there is the result of run i 12.59\n",
      "there is the result of run i 12.33\n",
      "there is the result of run i 13.48\n",
      "there is the result of run i 15.0\n",
      "--------------------------\n",
      "there is the result of run i 14.98\n",
      "there is the result of run i 4.77\n",
      "there is the result of run i 4.54\n",
      "there is the result of run i 3.1\n",
      "there is the result of run i 5.79\n",
      "there is the result of run i 5.22\n",
      "there is the result of run i 7.1\n",
      "there is the result of run i 14.03\n",
      "there is the result of run i 10.0\n",
      "there is the result of run i 13.48\n",
      "there is the result of run i 15.2\n",
      "--------------------------\n",
      "there is the result of run i 3.12\n",
      "there is the result of run i 4.46\n",
      "there is the result of run i 4.3\n",
      "there is the result of run i 2.65\n",
      "there is the result of run i 4.12\n",
      "there is the result of run i 5.71\n",
      "there is the result of run i 6.43\n",
      "there is the result of run i 10.9\n",
      "there is the result of run i 12.28\n",
      "there is the result of run i 14.09\n",
      "there is the result of run i 15.0\n",
      "--------------------------\n",
      "there is the result of run i 3.08\n",
      "there is the result of run i 3.25\n",
      "there is the result of run i 3.37\n",
      "there is the result of run i 2.8\n",
      "there is the result of run i 4.88\n",
      "there is the result of run i 7.84\n",
      "there is the result of run i 7.62\n",
      "there is the result of run i 9.36\n",
      "there is the result of run i 10.56\n",
      "there is the result of run i 13.91\n",
      "there is the result of run i 15.0\n"
     ]
    }
   ],
   "source": [
    "results = []\n",
    "for a in range(4):\n",
    "    print('--------------------------')\n",
    "    for i in params:\n",
    "        x = perturbation_generate_variant_sbm_35(6000, 0.4, 0.3 , 0.2, 0.1, i)\n",
    "        print('there is the result of run i', x)\n",
    "        results.append(x)\n",
    "\n",
    "# Average 4.5 now its 7.74 if top-degrees , 10.14 if random"
   ]
  },
  {
   "cell_type": "code",
   "execution_count": 19,
   "metadata": {},
   "outputs": [
    {
     "data": {
      "text/plain": [
       "<matplotlib.legend.Legend at 0x7ff655850e20>"
      ]
     },
     "execution_count": 19,
     "metadata": {},
     "output_type": "execute_result"
    },
    {
     "data": {
      "image/png": "[encoded data removed]",
      "text/plain": [
       "<Figure size 432x288 with 1 Axes>"
      ]
     },
     "metadata": {
      "needs_background": "light"
     },
     "output_type": "display_data"
    }
   ],
   "source": [
    "ran6k_results = [9.05, 6.82, 4.02, 12.35, 9.95,  14.88, 14.86, 13.26, 14.92, 14.91,  14.68]\n",
    "deg6k_results = [6.07, 4.24, 4.14, 12.98, 4.66, 6.40, 7.68, 11.72,  11.30, 13.74, 15.05] \n",
    "fig2 = plt.figure()\n",
    "axes_1 = fig2.add_axes([0.1,0.1,0.9,0.9])\n",
    "axes_1.plot(params, ran6k_results, label='Random')\n",
    "axes_1.plot(params, deg6k_results, label='Degrees')\n",
    "axes_1.set_title('n = 6000, k = 3, h = 5, a = 0.4, b = 0.3, c = 0.2, c = 0.1')\n",
    "plt.xlabel('Perturbation Parameter')\n",
    "plt.ylabel('Error (in %)')\n",
    "axes_1.legend(loc=0)"
   ]
  },
  {
   "cell_type": "code",
   "execution_count": 12,
   "metadata": {},
   "outputs": [],
   "source": [
    "def perturbation_generate_variant_sbm_55(size, a, b , c, d, perturbation_parameter):\n",
    "    arr = [size // 25] * 25\n",
    "    #print(arr)\n",
    "    probs = [[a,b,b,b,b ,c,d,d,d,d ,c,d,d,d,d, c,d,d,d,d ,c,d,d,d,d],\n",
    "             [b,a,b,b,b ,d,c,d,d,d ,d,c,d,d,d, d,c,d,d,d ,d,c,d,d,d],\n",
    "             [b,b,a,b,b ,d,d,c,d,d ,d,d,c,d,d, d,d,c,d,d ,d,d,c,d,d],\n",
    "             [b,b,b,a,b ,d,d,d,c,d ,d,d,d,c,d, d,d,d,c,d ,d,d,d,c,d],\n",
    "             [b,b,b,b,a ,d,d,d,d,c ,d,d,d,d,c, d,d,d,d,c ,d,d,d,d,c],\n",
    "             \n",
    "             [c,d,d,d,d ,a,b,b,b,b ,c,d,d,d,d, c,d,d,d,d ,c,d,d,d,d],\n",
    "             [d,c,d,d,d ,b,a,b,b,b ,d,c,d,d,d, d,c,d,d,d ,d,c,d,d,d],\n",
    "             [d,d,c,d,d ,b,b,a,b,b ,d,d,c,d,d, d,d,c,d,d ,d,d,c,d,d],\n",
    "             [d,d,d,c,d ,b,b,b,a,b ,d,d,d,c,d, d,d,d,c,d ,d,d,d,c,d],\n",
    "             [d,d,d,d,c ,b,b,b,b,a ,d,d,d,d,c, d,d,d,d,c ,d,d,d,d,c],\n",
    "             \n",
    "             [c,d,d,d,d ,c,d,d,d,d ,a,b,b,b,b, c,d,d,d,d ,c,d,d,d,d],\n",
    "             [d,c,d,d,d ,d,c,d,d,d ,b,a,b,b,b, d,c,d,d,d ,d,c,d,d,d],\n",
    "             [d,d,c,d,d ,d,d,c,d,d ,b,b,a,b,b, d,d,c,d,d ,d,d,c,d,d],\n",
    "             [d,d,d,c,d ,d,d,d,c,d ,b,b,b,a,b, d,d,d,c,d ,d,d,d,c,d],\n",
    "             [d,d,d,d,c ,d,d,d,d,c ,b,b,b,b,a, d,d,d,d,c ,d,d,d,d,c],\n",
    "             \n",
    "             [c,d,d,d,d ,c,d,d,d,d ,c,d,d,d,d, a,b,b,b,b ,c,d,d,d,d],\n",
    "             [d,c,d,d,d ,d,c,d,d,d ,d,c,d,d,d, b,a,b,b,b ,d,c,d,d,d],\n",
    "             [d,d,c,d,d ,d,d,c,d,d ,d,d,c,d,d, b,b,a,b,b ,d,d,c,d,d],\n",
    "             [d,d,d,c,d ,d,d,d,c,d ,d,d,d,c,d, b,b,b,a,b ,d,d,d,c,d],\n",
    "             [d,d,d,d,c ,d,d,d,d,c ,d,d,d,d,c, b,b,b,b,a ,d,d,d,d,c],\n",
    "             \n",
    "             [c,d,d,d,d ,c,d,d,d,d ,c,d,d,d,d, c,d,d,d,d ,a,b,b,b,b],\n",
    "             [d,c,d,d,d ,d,c,d,d,d ,d,c,d,d,d, d,c,d,d,d ,b,a,b,b,b],\n",
    "             [d,d,c,d,d ,d,d,c,d,d ,d,d,c,d,d, d,d,c,d,d ,b,b,a,b,b],\n",
    "             [d,d,d,c,d ,d,d,d,c,d ,d,d,d,c,d, d,d,d,c,d ,b,b,b,a,b],\n",
    "             [d,d,d,d,c ,d,d,d,d,c ,d,d,d,d,c, d,d,d,d,c ,b,b,b,b,a]]\n",
    "    \n",
    "    # Generate SBM\n",
    "    graph = nx.stochastic_block_model(arr, probs)\n",
    "    \n",
    "    # Apply perturbation\n",
    "    perturbated_graph = perturbation_remove_nodes(graph, perturbation_parameter, greatest_degrees=True)\n",
    "    \n",
    "    # Run Algorithms\n",
    "    t0 = time() # Start \n",
    "    labels, other_stuff = un_spectral(perturbated_graph, 5)\n",
    "    #print(labels)\n",
    "    t1 = time() # Run Time Algo 1\n",
    "    fair_labels, other_stuff_2 = un_spectral_fair(perturbated_graph, 5, labels)\n",
    "    t2 = time() # Run Time Algo 2\n",
    "    \n",
    "    # Get the Error !!! this is where y\n",
    "    y = round(error_sym(labels, fair_labels), 2) ### Be careful about that! You change that alot!\n",
    "        \n",
    "    return y"
   ]
  },
  {
   "cell_type": "code",
   "execution_count": 13,
   "metadata": {},
   "outputs": [
    {
     "name": "stdout",
     "output_type": "stream",
     "text": [
      "---------RANDOM------------\n",
      "there is the result of run i 0.0\n",
      "there is the result of run i 0.42\n",
      "there is the result of run i 2.47\n",
      "there is the result of run i 0.8\n",
      "there is the result of run i 4.5\n",
      "there is the result of run i 1.44\n",
      "there is the result of run i 4.2\n",
      "there is the result of run i 3.75\n",
      "there is the result of run i 3.1\n",
      "there is the result of run i 1.78\n",
      "there is the result of run i 1.28\n",
      "---------RANDOM------------\n",
      "there is the result of run i 0.0\n",
      "there is the result of run i 0.53\n",
      "there is the result of run i 1.0\n",
      "there is the result of run i 1.34\n",
      "there is the result of run i 1.4\n",
      "there is the result of run i 4.0\n",
      "there is the result of run i 1.09\n",
      "there is the result of run i 4.65\n",
      "there is the result of run i 5.17\n",
      "there is the result of run i 5.89\n",
      "there is the result of run i 3.52\n",
      "---------RANDOM------------\n",
      "there is the result of run i 0.0\n",
      "there is the result of run i 0.36\n",
      "there is the result of run i 2.42\n",
      "there is the result of run i 1.44\n",
      "there is the result of run i 1.4\n",
      "there is the result of run i 2.19\n",
      "there is the result of run i 2.63\n",
      "there is the result of run i 2.43\n",
      "there is the result of run i 2.17\n",
      "there is the result of run i 2.84\n",
      "there is the result of run i 11.24\n",
      "---------RANDOM------------\n",
      "there is the result of run i 0.0\n",
      "there is the result of run i 2.61\n",
      "there is the result of run i 1.22\n",
      "there is the result of run i 4.24\n",
      "there is the result of run i 1.12\n",
      "there is the result of run i 1.81\n",
      "there is the result of run i 3.26\n",
      "there is the result of run i 2.8\n",
      "there is the result of run i 5.4\n",
      "there is the result of run i 3.31\n",
      "there is the result of run i 3.32\n"
     ]
    }
   ],
   "source": [
    "params = np.arange(0, 55, 5)\n",
    "results = []\n",
    "for a in range(4):\n",
    "    print('---------RANDOM------------')\n",
    "    for i in params:\n",
    "        x = perturbation_generate_variant_sbm_55(5000, 0.4, 0.3 , 0.2, 0.1, i)\n",
    "        print('there is the result of run i', x)\n",
    "        results.append(x)\n",
    "    \n",
    "# normally 0, greater_degree = 2.64, if random = 2.61"
   ]
  },
  {
   "cell_type": "code",
   "execution_count": 24,
   "metadata": {},
   "outputs": [
    {
     "data": {
      "text/plain": [
       "<matplotlib.legend.Legend at 0x7ff651291f70>"
      ]
     },
     "execution_count": 24,
     "metadata": {},
     "output_type": "execute_result"
    },
    {
     "data": {
      "image/png": "[encoded data removed]",
      "text/plain": [
       "<Figure size 432x288 with 1 Axes>"
      ]
     },
     "metadata": {
      "needs_background": "light"
     },
     "output_type": "display_data"
    }
   ],
   "source": [
    "params = np.arange(0, 55, 5)\n",
    "ran5k_results = [0.0, 1.40, 0.44, 1.23, 2.53, 2.12, 2.2, 3.03, 3.43, 5.95, 5.79]\n",
    "deg5k_results = [0.0, 0.98, 1.78, 1.96, 2.11, 2.36, 2.80, 3.4, 3.96, 3.38, 4.84] \n",
    "\n",
    "fig3 = plt.figure()\n",
    "axes_1 = fig3.add_axes([0.1,0.1,0.9,0.9])\n",
    "axes_1.plot(params, ran5k_results, label='Random')\n",
    "axes_1.plot(params, deg5k_results, label='Degrees')\n",
    "axes_1.set_title('n = 5000,  k = 5, h = 5, a = 0.4, b = 0.3, c = 0.2, c = 0.1')\n",
    "plt.xlabel('Perturbation Parameter')\n",
    "plt.ylabel('Error (in %)')\n",
    "axes_1.legend(loc=0)"
   ]
  },
  {
   "cell_type": "code",
   "execution_count": null,
   "metadata": {},
   "outputs": [],
   "source": []
  }
 ],
 "metadata": {
  "kernelspec": {
   "display_name": "Python 3",
   "language": "python",
   "name": "python3"
  },
  "language_info": {
   "codemirror_mode": {
    "name": "ipython",
    "version": 3
   },
   "file_extension": ".py",
   "mimetype": "text/x-python",
   "name": "python",
   "nbconvert_exporter": "python",
   "pygments_lexer": "ipython3",
   "version": "3.8.3"
  }
 },
 "nbformat": 4,
 "nbformat_minor": 4
}
