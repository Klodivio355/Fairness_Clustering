{
 "cells": [
  {
   "cell_type": "code",
   "execution_count": null,
   "metadata": {},
   "outputs": [],
   "source": [
    "# A few functions to help visualise our graph clusterings\n",
    "\n",
    "\n",
    "colours = ['green', 'red', 'blue', 'purple', 'yellow', 'orange', 'pink', 'chocolate', 'turquoise', 'lime']\n",
    "\n",
    "def draw(G,labels):\n",
    "    \"\"\"\n",
    "    Parameters\n",
    "    --------------\n",
    "    G : Input Graph\n",
    "    labels : Clustering output array\n",
    "    \"\"\"\n",
    "    \n",
    "    color_map = []\n",
    "    k = max(labels)\n",
    "    my_pos = nx.spring_layout(G, seed = 3)\n",
    "    \n",
    "    for NI in range(len(labels)):\n",
    "        for c in range(k+1):\n",
    "            if labels[NI] == c:\n",
    "                color_map.append(colours[c])\n",
    "                \n",
    "    nx.draw_networkx(G, my_pos, node_color=color_map, node_size = 50) \n",
    "    \n",
    "    plt.show()"
   ]
  }
 ],
 "metadata": {
  "kernelspec": {
   "display_name": "Python 3",
   "language": "python",
   "name": "python3"
  },
  "language_info": {
   "codemirror_mode": {
    "name": "ipython",
    "version": 3
   },
   "file_extension": ".py",
   "mimetype": "text/x-python",
   "name": "python",
   "nbconvert_exporter": "python",
   "pygments_lexer": "ipython3",
   "version": "3.8.3"
  }
 },
 "nbformat": 4,
 "nbformat_minor": 4
}
