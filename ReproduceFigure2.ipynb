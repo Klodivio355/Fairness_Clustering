{
 "cells": [
  {
   "cell_type": "code",
   "execution_count": 3,
   "metadata": {},
   "outputs": [],
   "source": [
    "\"\"\"\n",
    "@author: maximefontana\n",
    "\"\"\"\n",
    "# System\n",
    "import sys\n",
    "\n",
    "# Graph Data\n",
    "import snap\n",
    "import networkx as nx\n",
    "\n",
    "# Scientific Computing \n",
    "import numpy as np\n",
    "import scipy\n",
    "import pandas as pd\n",
    "\n",
    "# Math\n",
    "import random as ran\n",
    "from time import time\n",
    "\n",
    "# Custom imports\n",
    "%run 'Algorithms.ipynb'\n",
    "%run 'ClusteringEvaluation.ipynb'\n",
    "%run 'PlotFunctions.ipynb'\n",
    "%run 'GroundTruthGen.ipynb'\n",
    "\n",
    "# Specific models\n",
    "from sklearn.cluster import SpectralClustering, KMeans\n",
    "from sklearn import metrics\n",
    "\n",
    "# Plotting\n",
    "from matplotlib import pyplot as plt"
   ]
  },
  {
   "cell_type": "code",
   "execution_count": 2,
   "metadata": {},
   "outputs": [
    {
     "name": "stdout",
     "output_type": "stream",
     "text": [
      "Requirement already satisfied: networkx==2.5 in /Users/maximefontana/opt/anaconda3/lib/python3.8/site-packages (2.5)\n",
      "Requirement already satisfied: decorator>=4.3.0 in /Users/maximefontana/opt/anaconda3/lib/python3.8/site-packages (from networkx==2.5) (4.4.2)\n",
      "Note: you may need to restart the kernel to use updated packages.\n"
     ]
    }
   ],
   "source": [
    "#pip install networkx==2.5"
   ]
  },
  {
   "cell_type": "code",
   "execution_count": 4,
   "metadata": {},
   "outputs": [
    {
     "data": {
      "text/plain": [
       "'\\nerrors, algo1runs, algo2runs = get_averaged_tests_55(4) ### !!! This will take a few hours\\n\\nfig = plt.figure()\\nx = np.arange(1000,11000,1000)\\naxes_1 = fig.add_axes([0.1,0.1,0.9,0.9])\\naxes_1.plot(x, errors, label=\"algo_2\", marker=\\'o\\')\\nplt.xlabel(\\'n\\')\\nplt.ylabel(\\'Error (in %)\\')\\naxes_1.legend(loc=0)\\n'"
      ]
     },
     "execution_count": 4,
     "metadata": {},
     "output_type": "execute_result"
    }
   ],
   "source": [
    "def generate_variant_sbm_55(size, a, b , c, d, i):\n",
    "    arr = [size // 25] * 25\n",
    "    probs = [[a,b,b,b,b ,c,d,d,d,d ,c,d,d,d,d, c,d,d,d,d ,c,d,d,d,d],\n",
    "             [b,a,b,b,b ,d,c,d,d,d ,d,c,d,d,d, d,c,d,d,d ,d,c,d,d,d],\n",
    "             [b,b,a,b,b ,d,d,c,d,d ,d,d,c,d,d, d,d,c,d,d ,d,d,c,d,d],\n",
    "             [b,b,b,a,b ,d,d,d,c,d ,d,d,d,c,d, d,d,d,c,d ,d,d,d,c,d],\n",
    "             [b,b,b,b,a ,d,d,d,d,c ,d,d,d,d,c, d,d,d,d,c ,d,d,d,d,c],\n",
    "             \n",
    "             [c,d,d,d,d ,a,b,b,b,b ,c,d,d,d,d, c,d,d,d,d ,c,d,d,d,d],\n",
    "             [d,c,d,d,d ,b,a,b,b,b ,d,c,d,d,d, d,c,d,d,d ,d,c,d,d,d],\n",
    "             [d,d,c,d,d ,b,b,a,b,b ,d,d,c,d,d, d,d,c,d,d ,d,d,c,d,d],\n",
    "             [d,d,d,c,d ,b,b,b,a,b ,d,d,d,c,d, d,d,d,c,d ,d,d,d,c,d],\n",
    "             [d,d,d,d,c ,b,b,b,b,a ,d,d,d,d,c, d,d,d,d,c ,d,d,d,d,c],\n",
    "             \n",
    "             [c,d,d,d,d ,c,d,d,d,d ,a,b,b,b,b, c,d,d,d,d ,c,d,d,d,d],\n",
    "             [d,c,d,d,d ,d,c,d,d,d ,b,a,b,b,b, d,c,d,d,d ,d,c,d,d,d],\n",
    "             [d,d,c,d,d ,d,d,c,d,d ,b,b,a,b,b, d,d,c,d,d ,d,d,c,d,d],\n",
    "             [d,d,d,c,d ,d,d,d,c,d ,b,b,b,a,b, d,d,d,c,d ,d,d,d,c,d],\n",
    "             [d,d,d,d,c ,d,d,d,d,c ,b,b,b,b,a, d,d,d,d,c ,d,d,d,d,c],\n",
    "             \n",
    "             [c,d,d,d,d ,c,d,d,d,d ,c,d,d,d,d, a,b,b,b,b ,c,d,d,d,d],\n",
    "             [d,c,d,d,d ,d,c,d,d,d ,d,c,d,d,d, b,a,b,b,b ,d,c,d,d,d],\n",
    "             [d,d,c,d,d ,d,d,c,d,d ,d,d,c,d,d, b,b,a,b,b ,d,d,c,d,d],\n",
    "             [d,d,d,c,d ,d,d,d,c,d ,d,d,d,c,d, b,b,b,a,b ,d,d,d,c,d],\n",
    "             [d,d,d,d,c ,d,d,d,d,c ,d,d,d,d,c, b,b,b,b,a ,d,d,d,d,c],\n",
    "             \n",
    "             [c,d,d,d,d ,c,d,d,d,d ,c,d,d,d,d, c,d,d,d,d ,a,b,b,b,b],\n",
    "             [d,c,d,d,d ,d,c,d,d,d ,d,c,d,d,d, d,c,d,d,d ,b,a,b,b,b],\n",
    "             [d,d,c,d,d ,d,d,c,d,d ,d,d,c,d,d, d,d,c,d,d ,b,b,a,b,b],\n",
    "             [d,d,d,c,d ,d,d,d,c,d ,d,d,d,c,d, d,d,d,c,d ,b,b,b,a,b],\n",
    "             [d,d,d,d,c ,d,d,d,d,c ,d,d,d,d,c, d,d,d,d,c ,b,b,b,b,a]]\n",
    "    \n",
    "    # Generate SBM\n",
    "    graph = nx.stochastic_block_model(arr, probs, seed=i)\n",
    "    \n",
    "    # Run Algorithms\n",
    "    t0 = time() # Start \n",
    "    labels = un_spectral(graph, 5)\n",
    "    t1 = time() # Run Time Algo 1\n",
    "    fair_labels = un_spectral_fair(graph, 5, labels)\n",
    "    t2 = time() # Run Time Algo 2\n",
    "    \n",
    "    # Get the Error\n",
    "    y = round(error_sym(labels, fair_labels), 2)\n",
    "        \n",
    "    return y, (t1-t0), (t2-t1)\n",
    "\n",
    "def get_averaged_results(num_runs, error_list, USC_list, FairUSC_list):\n",
    "    \n",
    "    reshaped_errors = error_list.reshape(num_runs,10)\n",
    "    averaged_errors = reshaped_errors.mean(axis=0)\n",
    "    \n",
    "    reshaped_USC = USC_list.reshape(num_runs, 10)\n",
    "    averaged_USC = reshaped_USC.mean(axis=0)\n",
    "    \n",
    "    reshaped_FairUSC = FairUSC_list.reshape(num_runs, 10)\n",
    "    averaged_FairUSC = reshaped_FairUSC.mean(axis=0)\n",
    "    \n",
    "    return averaged_errors, averaged_USC, averaged_FairUSC\n",
    "\n",
    "def get_averaged_tests_55(num_runs):\n",
    "    \"\"\"\n",
    "    PARAMETERS\n",
    "    -------------------------\n",
    "    INPUT \n",
    "    - num_runs : Number of runs you want to make in order to average out the results\n",
    "    \n",
    "    OUTPUT\n",
    "    - error_scores : 1D-array of size 10, representing averaged results up on \n",
    "    - USC_scores : 2D-array of size m*10, storing the running time of algo.1 \n",
    "    - FairUSC_scores : 2D-array of size m*10, storing the running time of algo.2\n",
    "    \"\"\"\n",
    "    \n",
    "    error_scores = np.array([])\n",
    "    USC_scores = np.array([])\n",
    "    FairUSC_scores = np.array([])\n",
    "    \n",
    "    for i in range(num_runs):\n",
    "        for y in range(1000, 11000, 1000):\n",
    "            error, run1, run2 = generate_variant_sbm_55(y, 0.4, 0.3, 0.2, 0.1, i)\n",
    "            \n",
    "            error_scores = np.append(error_scores, [error])\n",
    "            USC_scores = np.append(USC_scores, [run1])\n",
    "            FairUSC_scores = np.append(FairUSC_scores, [run2])\n",
    "            print(\"Run :\", i+1 , \". Score :\", error, \". For n = \", y, \". USC :\", round(run1,2) \n",
    "                  , \". FairUSC :\", round(run2,2))\n",
    "            \n",
    "    av_error, av_USC, av_FairUSC = get_averaged_results(num_runs, error_scores, \n",
    "                                   USC_scores, FairUSC_scores)\n",
    "    \n",
    "    \n",
    "    return av_error, av_USC, av_FairUSC\n"
   ]
  },
  {
   "cell_type": "code",
   "execution_count": 7,
   "metadata": {},
   "outputs": [
    {
     "name": "stdout",
     "output_type": "stream",
     "text": [
      "[19.875  19.95   19.97   19.9725 16.075  10.21    0.275   0.04    0.\n",
      "  0.    ]\n",
      "[  0.54617465   2.93992597   9.60373455  22.13490546  43.46908695\n",
      "  83.1985209  131.71047473 198.59189975 283.93881142 394.21269351]\n",
      "[  0.20511776   1.10660887   3.28844804   7.00502759  13.86039871\n",
      "  21.98830396  37.00142068  58.29770422  83.24058729 112.19232947]\n"
     ]
    }
   ],
   "source": [
    "# Test with : 0.2 0.15 0.10. 0.05\n",
    "\"\"\"\n",
    "errors, algo1runs, algo2runs = get_averaged_tests_55(4) ### !!! This will take a few hours\n",
    "\n",
    "fig = plt.figure()\n",
    "x = np.arange(1000,11000,1000)\n",
    "axes_1 = fig.add_axes([0.1,0.1,0.9,0.9])\n",
    "axes_1.plot(x, errors, label=\"algo_2\", marker='o')\n",
    "plt.xlabel('n')\n",
    "plt.ylabel('Error (in %)')\n",
    "axes_1.legend(loc=0)\n",
    "\"\"\"\n",
    "\n",
    "print(errors)\n",
    "print(algo1runs)\n",
    "print(algo2runs)"
   ]
  },
  {
   "cell_type": "code",
   "execution_count": 14,
   "metadata": {},
   "outputs": [
    {
     "name": "stderr",
     "output_type": "stream",
     "text": [
      "<ipython-input-14-afe90eecae15>:4: MatplotlibDeprecationWarning: Adding an axes using the same arguments as a previous axes currently reuses the earlier instance.  In a future version, a new instance will always be created and returned.  Meanwhile, this warning can be suppressed, and the future behavior ensured, by passing a unique label to each axes instance.\n",
      "  axes_2 = fig.add_axes([0.1,0.1,0.9,0.9])\n"
     ]
    },
    {
     "data": {
      "text/plain": [
       "<matplotlib.legend.Legend at 0x7f8f80c7c9a0>"
      ]
     },
     "execution_count": 14,
     "metadata": {},
     "output_type": "execute_result"
    },
    {
     "data": {
      "image/png": "[encoded data removed]",
      "text/plain": [
       "<Figure size 432x288 with 1 Axes>"
      ]
     },
     "metadata": {
      "needs_background": "light"
     },
     "output_type": "display_data"
    }
   ],
   "source": [
    "fig = plt.figure()\n",
    "x = np.arange(1000,11000,1000)\n",
    "axes_1 = fig.add_axes([0.1,0.1,0.9,0.9])\n",
    "axes_2 = fig.add_axes([0.1,0.1,0.9,0.9])\n",
    "axes_1.plot(x, algo1runs, label=\"USC\", marker='o')\n",
    "axes_2.plot(x, algo2runs, label=\"FairUSC\", marker='x')\n",
    "plt.xlabel('n')\n",
    "plt.ylabel('Runtime in secondes')\n",
    "axes_1.legend(loc=0)"
   ]
  },
  {
   "cell_type": "code",
   "execution_count": 5,
   "metadata": {},
   "outputs": [
    {
     "name": "stdout",
     "output_type": "stream",
     "text": [
      "Run : 1 . Score : 19.8 . For n =  1000 . USC : 0.65 . FairUSC : 0.35\n",
      "Run : 1 . Score : 2.0 . For n =  2000 . USC : 3.28 . FairUSC : 1.41\n",
      "Run : 1 . Score : 1.67 . For n =  3000 . USC : 10.88 . FairUSC : 4.34\n",
      "Run : 1 . Score : 0.0 . For n =  4000 . USC : 23.65 . FairUSC : 9.37\n",
      "Run : 1 . Score : 0.0 . For n =  5000 . USC : 46.94 . FairUSC : 15.57\n",
      "Run : 1 . Score : 0.0 . For n =  6000 . USC : 91.2 . FairUSC : 31.14\n",
      "Run : 1 . Score : 0.0 . For n =  7000 . USC : 143.51 . FairUSC : 45.53\n",
      "Run : 1 . Score : 0.0 . For n =  8000 . USC : 216.04 . FairUSC : 73.17\n",
      "Run : 1 . Score : 0.0 . For n =  9000 . USC : 306.22 . FairUSC : 99.47\n",
      "Run : 1 . Score : 0.0 . For n =  10000 . USC : 412.17 . FairUSC : 142.13\n",
      "Run : 2 . Score : 19.9 . For n =  1000 . USC : 0.6 . FairUSC : 0.29\n",
      "Run : 2 . Score : 0.5 . For n =  2000 . USC : 3.57 . FairUSC : 1.54\n",
      "Run : 2 . Score : 0.1 . For n =  3000 . USC : 11.69 . FairUSC : 4.3\n",
      "Run : 2 . Score : 0.0 . For n =  4000 . USC : 25.23 . FairUSC : 8.71\n",
      "Run : 2 . Score : 0.0 . For n =  5000 . USC : 50.5 . FairUSC : 16.46\n",
      "Run : 2 . Score : 0.0 . For n =  6000 . USC : 93.88 . FairUSC : 28.63\n",
      "Run : 2 . Score : 0.0 . For n =  7000 . USC : 138.44 . FairUSC : 46.49\n",
      "Run : 2 . Score : 0.0 . For n =  8000 . USC : 217.39 . FairUSC : 64.45\n",
      "Run : 2 . Score : 0.0 . For n =  9000 . USC : 300.9 . FairUSC : 94.78\n",
      "Run : 2 . Score : 0.0 . For n =  10000 . USC : 409.83 . FairUSC : 123.32\n",
      "Run : 3 . Score : 19.9 . For n =  1000 . USC : 0.55 . FairUSC : 0.24\n",
      "Run : 3 . Score : 19.95 . For n =  2000 . USC : 3.19 . FairUSC : 1.28\n",
      "Run : 3 . Score : 0.6 . For n =  3000 . USC : 9.67 . FairUSC : 3.97\n",
      "Run : 3 . Score : 0.0 . For n =  4000 . USC : 22.08 . FairUSC : 8.89\n",
      "Run : 3 . Score : 0.0 . For n =  5000 . USC : 43.64 . FairUSC : 15.79\n",
      "Run : 3 . Score : 0.0 . For n =  6000 . USC : 86.64 . FairUSC : 25.24\n",
      "Run : 3 . Score : 0.0 . For n =  7000 . USC : 132.54 . FairUSC : 43.45\n",
      "Run : 3 . Score : 0.0 . For n =  8000 . USC : 212.48 . FairUSC : 64.44\n",
      "Run : 3 . Score : 0.0 . For n =  9000 . USC : 296.13 . FairUSC : 91.82\n",
      "Run : 3 . Score : 0.0 . For n =  10000 . USC : 406.27 . FairUSC : 126.93\n",
      "Run : 4 . Score : 19.9 . For n =  1000 . USC : 0.57 . FairUSC : 0.27\n",
      "Run : 4 . Score : 2.55 . For n =  2000 . USC : 3.17 . FairUSC : 1.33\n",
      "Run : 4 . Score : 0.0 . For n =  3000 . USC : 11.47 . FairUSC : 3.93\n",
      "Run : 4 . Score : 0.0 . For n =  4000 . USC : 22.93 . FairUSC : 8.3\n",
      "Run : 4 . Score : 0.0 . For n =  5000 . USC : 45.46 . FairUSC : 15.35\n",
      "Run : 4 . Score : 0.0 . For n =  6000 . USC : 87.49 . FairUSC : 25.85\n",
      "Run : 4 . Score : 0.0 . For n =  7000 . USC : 143.24 . FairUSC : 42.41\n",
      "Run : 4 . Score : 0.0 . For n =  8000 . USC : 213.64 . FairUSC : 68.23\n",
      "Run : 4 . Score : 0.0 . For n =  9000 . USC : 287.99 . FairUSC : 87.12\n",
      "Run : 4 . Score : 0.0 . For n =  10000 . USC : 404.38 . FairUSC : 126.06\n"
     ]
    },
    {
     "data": {
      "text/plain": [
       "<matplotlib.legend.Legend at 0x7f9c17ec2d30>"
      ]
     },
     "execution_count": 5,
     "metadata": {},
     "output_type": "execute_result"
    },
    {
     "data": {
      "image/png": "[encoded data removed]",
      "text/plain": [
       "<Figure size 432x288 with 1 Axes>"
      ]
     },
     "metadata": {
      "needs_background": "light"
     },
     "output_type": "display_data"
    }
   ],
   "source": [
    "# Test with 0.4 0.3 0.2 0.1\n",
    "errors, algo1runs, algo2runs = get_averaged_tests_55(4) ### !!! This will take a few hours\n",
    "\n",
    "fig = plt.figure()\n",
    "x = np.arange(1000,11000,1000)\n",
    "axes_1 = fig.add_axes([0.1,0.1,0.9,0.9])\n",
    "axes_1.plot(x, errors, label=\"algo_2\", marker='o')\n",
    "plt.xlabel('n')\n",
    "plt.ylabel('Error (in %)')\n",
    "axes_1.legend(loc=0)"
   ]
  },
  {
   "cell_type": "code",
   "execution_count": 6,
   "metadata": {},
   "outputs": [
    {
     "name": "stdout",
     "output_type": "stream",
     "text": [
      "[19.875   6.25    0.5925  0.      0.      0.      0.      0.      0.\n",
      "  0.    ]\n",
      "[  0.58995986   3.30364156  10.92558694  23.47071183  46.63591659\n",
      "  89.80043435 139.43157214 214.88872522 297.81086904 408.16045183]\n",
      "[  0.2893979    1.3918435    4.13657343   8.81946719  15.79343516\n",
      "  27.71423519  44.47145754  67.57386178  93.29877573 129.60837495]\n"
     ]
    }
   ],
   "source": [
    "print(errors)\n",
    "print(algo1runs)\n",
    "print(algo2runs)"
   ]
  },
  {
   "cell_type": "code",
   "execution_count": null,
   "metadata": {},
   "outputs": [],
   "source": []
  }
 ],
 "metadata": {
  "kernelspec": {
   "display_name": "Python 3",
   "language": "python",
   "name": "python3"
  },
  "language_info": {
   "codemirror_mode": {
    "name": "ipython",
    "version": 3
   },
   "file_extension": ".py",
   "mimetype": "text/x-python",
   "name": "python",
   "nbconvert_exporter": "python",
   "pygments_lexer": "ipython3",
   "version": "3.8.3"
  }
 },
 "nbformat": 4,
 "nbformat_minor": 4
}
